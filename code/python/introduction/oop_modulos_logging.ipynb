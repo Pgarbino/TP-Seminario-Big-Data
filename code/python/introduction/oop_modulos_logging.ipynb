{
 "cells": [
  {
   "cell_type": "markdown",
   "id": "7cc391f3",
   "metadata": {},
   "source": [
    "# OOP, Modulos y Logging en Python"
   ]
  },
  {
   "cell_type": "markdown",
   "id": "0cc2f31f",
   "metadata": {},
   "source": [
    "## OOP"
   ]
  },
  {
   "cell_type": "code",
   "execution_count": null,
   "id": "0fe749f4",
   "metadata": {},
   "outputs": [],
   "source": [
    "class Animal:\n",
    "\n",
    "    def __init__(self, name, species):\n",
    "        self.name = name\n",
    "        self.species = species\n",
    "\n",
    "    def make_sound(self):\n",
    "        print(f\"As a {self.species} I make some sound\")\n"
   ]
  },
  {
   "cell_type": "code",
   "execution_count": null,
   "id": "70798f36",
   "metadata": {},
   "outputs": [],
   "source": []
  },
  {
   "cell_type": "markdown",
   "id": "35a56099",
   "metadata": {},
   "source": [
    "### Herencia"
   ]
  },
  {
   "cell_type": "code",
   "execution_count": null,
   "id": "c2d20f89",
   "metadata": {},
   "outputs": [],
   "source": [
    "class Cat(Animal):\n",
    "    def __init__(self, name):\n",
    "        super().__init__(name, species='feline')\n",
    "\n",
    "    def make_sound(self):\n",
    "        print(\"I meow\")"
   ]
  },
  {
   "cell_type": "code",
   "execution_count": null,
   "id": "bebea17b",
   "metadata": {},
   "outputs": [],
   "source": []
  },
  {
   "cell_type": "markdown",
   "id": "406a2b07",
   "metadata": {},
   "source": [
    "## Modulos"
   ]
  },
  {
   "cell_type": "code",
   "execution_count": null,
   "id": "48d884a2",
   "metadata": {},
   "outputs": [],
   "source": [
    "import datetime"
   ]
  },
  {
   "cell_type": "code",
   "execution_count": null,
   "id": "0a153e05",
   "metadata": {},
   "outputs": [],
   "source": [
    "d = datetime.date(2020, 10, 1)"
   ]
  },
  {
   "cell_type": "code",
   "execution_count": null,
   "id": "d52706bf",
   "metadata": {},
   "outputs": [],
   "source": []
  },
  {
   "cell_type": "markdown",
   "id": "6aafa11b",
   "metadata": {},
   "source": [
    "## Logging y Debugging"
   ]
  },
  {
   "cell_type": "code",
   "execution_count": null,
   "id": "42a5ad03",
   "metadata": {},
   "outputs": [],
   "source": [
    "def add(x, y):\n",
    "    print(f\"The value of x is {x}\")\n",
    "    z = x + y\n",
    "    print(f\"The value of z is {z}\")\n",
    "    return x + y + z"
   ]
  },
  {
   "cell_type": "code",
   "execution_count": null,
   "id": "b9bc10cc",
   "metadata": {},
   "outputs": [],
   "source": [
    "add(5,9)"
   ]
  },
  {
   "cell_type": "code",
   "execution_count": null,
   "id": "26b87e40",
   "metadata": {},
   "outputs": [],
   "source": [
    "import logging"
   ]
  },
  {
   "cell_type": "code",
   "execution_count": null,
   "id": "f1fd5517",
   "metadata": {},
   "outputs": [],
   "source": []
  }
 ],
 "metadata": {
  "kernelspec": {
   "display_name": "Python 3",
   "language": "python",
   "name": "python3"
  },
  "language_info": {
   "codemirror_mode": {
    "name": "ipython",
    "version": 3
   },
   "file_extension": ".py",
   "mimetype": "text/x-python",
   "name": "python",
   "nbconvert_exporter": "python",
   "pygments_lexer": "ipython3",
   "version": "3.9.6"
  }
 },
 "nbformat": 4,
 "nbformat_minor": 5
}
