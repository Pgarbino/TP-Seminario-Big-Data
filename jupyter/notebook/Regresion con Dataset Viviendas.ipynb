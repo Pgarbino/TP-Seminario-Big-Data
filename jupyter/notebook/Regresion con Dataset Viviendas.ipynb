{
 "cells": [
  {
   "cell_type": "markdown",
   "metadata": {},
   "source": [
    "# Regresión con data de viviendas"
   ]
  },
  {
   "cell_type": "code",
   "execution_count": 13,
   "metadata": {},
   "outputs": [],
   "source": [
    "import findspark\n",
    "\n",
    "findspark.add_jars('/app/postgresql-42.1.4.jar')\n",
    "findspark.init()"
   ]
  },
  {
   "cell_type": "code",
   "execution_count": 14,
   "metadata": {},
   "outputs": [],
   "source": [
    "from pyspark.sql import SparkSession\n",
    "spark = (\n",
    "    SparkSession.builder\n",
    "    .appName(\"pyspark-postgres\")\n",
    "    .config(\"spark.driver.memory\", \"512m\")\n",
    "    .config(\"spark.driver.cores\", \"1\")\n",
    "    .config(\"spark.executor.memory\", \"512m\")\n",
    "    .config(\"spark.executor.cores\", \"1\")\n",
    "    .config(\"spark.sql.shuffle.partitions\", \"2\")\n",
    "    .getOrCreate()\n",
    ")"
   ]
  },
  {
   "cell_type": "code",
   "execution_count": 15,
   "metadata": {},
   "outputs": [
    {
     "data": {
      "text/plain": [
       "'2.4.5'"
      ]
     },
     "execution_count": 15,
     "metadata": {},
     "output_type": "execute_result"
    }
   ],
   "source": [
    "spark.version"
   ]
  },
  {
   "cell_type": "markdown",
   "metadata": {},
   "source": [
    "### Obtenemos el DF de psql"
   ]
  },
  {
   "cell_type": "code",
   "execution_count": 16,
   "metadata": {},
   "outputs": [],
   "source": [
    "df = spark.read \\\n",
    "    .format(\"jdbc\") \\\n",
    "    .option(\"url\", \"jdbc:postgresql://postgres/workshop\") \\\n",
    "    .option(\"dbtable\", \"workshop.viviendas\") \\\n",
    "    .option(\"user\", \"workshop\") \\\n",
    "    .option(\"password\", \"w0rkzh0p\") \\\n",
    "    .option(\"driver\", \"org.postgresql.Driver\") \\\n",
    "    .load()"
   ]
  },
  {
   "cell_type": "code",
   "execution_count": 17,
   "metadata": {},
   "outputs": [
    {
     "name": "stdout",
     "output_type": "stream",
     "text": [
      "+------+-----------------+---------------+------+----+-----+----+\n",
      "|Precio|        Ubicacion|         Barrio|Metros|Dorm|Baños|Años|\n",
      "+------+-----------------+---------------+------+----+-----+----+\n",
      "|580000|         Belgrano|Capital Federal| 160.0|   4|    4|  38|\n",
      "|550000|         Belgrano|Capital Federal| 160.0|   4|    4|  38|\n",
      "|265000|     Villa Crespo|Capital Federal|  80.0|   2|    2|  45|\n",
      "|200000|          Almagro|Capital Federal| 101.0|   3|    2|  40|\n",
      "|195000|Parque Centenario|Capital Federal|  68.0|   2|    1|  35|\n",
      "|270000|          Almagro|Capital Federal|  94.0|   3|    3|  40|\n",
      "|213000|          Palermo|Capital Federal|  75.0|   3|    1|  40|\n",
      "|139000|          Almagro|Capital Federal|  44.0|   1|    1|   5|\n",
      "|104000|     Palermo Soho|        Palermo|  46.0|   1|    1|   0|\n",
      "|138000|     Villa Crespo|Capital Federal|  46.0|   1|    1|   0|\n",
      "+------+-----------------+---------------+------+----+-----+----+\n",
      "only showing top 10 rows\n",
      "\n"
     ]
    }
   ],
   "source": [
    "df.show(10)"
   ]
  },
  {
   "cell_type": "code",
   "execution_count": 18,
   "metadata": {},
   "outputs": [
    {
     "data": {
      "text/plain": [
       "16040"
      ]
     },
     "execution_count": 18,
     "metadata": {},
     "output_type": "execute_result"
    }
   ],
   "source": [
    "df.count()"
   ]
  },
  {
   "cell_type": "markdown",
   "metadata": {},
   "source": [
    "### Casteamos los datos"
   ]
  },
  {
   "cell_type": "code",
   "execution_count": 19,
   "metadata": {},
   "outputs": [],
   "source": [
    "from pyspark.sql.types import DoubleType, IntegerType"
   ]
  },
  {
   "cell_type": "code",
   "execution_count": 20,
   "metadata": {},
   "outputs": [
    {
     "name": "stdout",
     "output_type": "stream",
     "text": [
      "root\n",
      " |-- Precio: long (nullable = true)\n",
      " |-- Ubicacion: string (nullable = true)\n",
      " |-- Barrio: string (nullable = true)\n",
      " |-- Metros: double (nullable = true)\n",
      " |-- Dorm: long (nullable = true)\n",
      " |-- Baños: long (nullable = true)\n",
      " |-- Años: long (nullable = true)\n",
      "\n"
     ]
    }
   ],
   "source": [
    "# Casteo de datos\n",
    "df.printSchema()"
   ]
  },
  {
   "cell_type": "code",
   "execution_count": 21,
   "metadata": {},
   "outputs": [],
   "source": [
    "def cast_cols(df, cols, new_type):\n",
    "  for col in cols: \n",
    "     df = df.withColumn(col, df[col].cast(new_type()))\n",
    "  return df"
   ]
  },
  {
   "cell_type": "code",
   "execution_count": 22,
   "metadata": {},
   "outputs": [],
   "source": [
    "integer_cols = ['Años', 'Baños', 'Dorm']\n",
    "float_cols = ['Precio', 'Metros']"
   ]
  },
  {
   "cell_type": "code",
   "execution_count": 23,
   "metadata": {},
   "outputs": [],
   "source": [
    "df = cast_cols(df, integer_cols, IntegerType)\n",
    "df = cast_cols(df, float_cols, DoubleType)"
   ]
  },
  {
   "cell_type": "code",
   "execution_count": 24,
   "metadata": {},
   "outputs": [
    {
     "name": "stdout",
     "output_type": "stream",
     "text": [
      "root\n",
      " |-- Precio: double (nullable = true)\n",
      " |-- Ubicacion: string (nullable = true)\n",
      " |-- Barrio: string (nullable = true)\n",
      " |-- Metros: double (nullable = true)\n",
      " |-- Dorm: integer (nullable = true)\n",
      " |-- Baños: integer (nullable = true)\n",
      " |-- Años: integer (nullable = true)\n",
      "\n"
     ]
    }
   ],
   "source": [
    "df.printSchema()"
   ]
  },
  {
   "cell_type": "markdown",
   "metadata": {},
   "source": [
    "### Limpiamos DF"
   ]
  },
  {
   "cell_type": "code",
   "execution_count": 25,
   "metadata": {},
   "outputs": [],
   "source": [
    "import logging\n",
    "logging.basicConfig(\n",
    "    level=logging.INFO,\n",
    "    format='%(asctime)s-%(name)s-%(levelname)s: %(message)s',\n",
    "    handlers=[logging.FileHandler('/dataset/titanic_spark.log'), logging.StreamHandler()],\n",
    ")\n",
    "logger = logging.getLogger(__name__)"
   ]
  },
  {
   "cell_type": "code",
   "execution_count": 26,
   "metadata": {},
   "outputs": [],
   "source": [
    "#Error Numbers are coded as 999\n",
    "df_replaced=df.na.replace(999, None)"
   ]
  },
  {
   "cell_type": "markdown",
   "metadata": {},
   "source": [
    "#### Drop Nulls"
   ]
  },
  {
   "cell_type": "code",
   "execution_count": 27,
   "metadata": {},
   "outputs": [],
   "source": [
    "import numpy as np\n",
    "import pyspark.sql.functions as f"
   ]
  },
  {
   "cell_type": "code",
   "execution_count": 28,
   "metadata": {},
   "outputs": [],
   "source": [
    "@f.udf('double')\n",
    "def np_log(x):\n",
    "    if x is None:\n",
    "        return 0\n",
    "    return float(np.log(x + 1)) "
   ]
  },
  {
   "cell_type": "code",
   "execution_count": 29,
   "metadata": {},
   "outputs": [],
   "source": [
    "def _drop_nulls(df, max_null_prop=0.5):\n",
    "    logger.info(\n",
    "        f\"Dropping columns with null ratio greater than {max_null_prop * 100}%...\"\n",
    "    )\n",
    "    df_nulls = df.select([f.sum(f.col(c).isNull().cast('integer') / df.count()).alias(c) \n",
    "                          for c in df.columns])\n",
    "    logger.info(f\"Null proportions:\\n {df_nulls.show()}\")\n",
    "    null_cols = [c for c in df_nulls.columns if df_nulls.select(c).first()[0] > max_null_prop \n",
    "                 and c not in PROTECTED_COLS]\n",
    "    logger.info(f\"Dropping the following {len(null_cols)} columns:\\n {null_cols}\")\n",
    "    df = df.drop(*null_cols)\n",
    "    return df"
   ]
  },
  {
   "cell_type": "code",
   "execution_count": 30,
   "metadata": {},
   "outputs": [
    {
     "name": "stderr",
     "output_type": "stream",
     "text": [
      "2021-11-15 12:36:39,690-__main__-INFO: Dropping columns with null ratio greater than 50.0%...\n",
      "2021-11-15 12:36:42,937-__main__-INFO: Null proportions:\n",
      " None\n"
     ]
    },
    {
     "name": "stdout",
     "output_type": "stream",
     "text": [
      "+-------------------+---------+------+-------------------+--------------------+--------------------+-------------------+\n",
      "|             Precio|Ubicacion|Barrio|             Metros|                Dorm|               Baños|               Años|\n",
      "+-------------------+---------+------+-------------------+--------------------+--------------------+-------------------+\n",
      "|0.01882793017456365|      0.0|   0.0|0.04183291770573582|0.001745635910224...|0.022506234413965164|0.20872817955110684|\n",
      "+-------------------+---------+------+-------------------+--------------------+--------------------+-------------------+\n",
      "\n"
     ]
    },
    {
     "name": "stderr",
     "output_type": "stream",
     "text": [
      "2021-11-15 12:36:44,978-__main__-INFO: Dropping the following 0 columns:\n",
      " []\n"
     ]
    }
   ],
   "source": [
    "PROTECTED_COLS = ['Precio', 'train']\n",
    "df = _drop_nulls(df_replaced)"
   ]
  },
  {
   "cell_type": "markdown",
   "metadata": {},
   "source": [
    "#### Drop Low Variance"
   ]
  },
  {
   "cell_type": "code",
   "execution_count": 31,
   "metadata": {},
   "outputs": [],
   "source": [
    "def _drop_std(df, min_std_dev=1.5e-2):\n",
    "    num_cols = [c for c,dtype in df.dtypes if dtype.startswith(('int', 'double'))]\n",
    "    df_std = df.select([f.stddev(f.col(c)).alias(c) for c in num_cols])\n",
    "    low_variance_cols = [c for c in df_std.columns if df_std.select(c).first()[0] < min_std_dev \n",
    "                         and c not in PROTECTED_COLS]\n",
    "    logger.info(\n",
    "        f'Dropping the following {len(low_variance_cols)} columns '\n",
    "        f'due to low variance:\\n {low_variance_cols}'\n",
    "    )\n",
    "    df.drop(*low_variance_cols)\n",
    "    return df\n"
   ]
  },
  {
   "cell_type": "code",
   "execution_count": 32,
   "metadata": {},
   "outputs": [
    {
     "name": "stderr",
     "output_type": "stream",
     "text": [
      "2021-11-15 12:36:46,475-__main__-INFO: Dropping the following 0 columns due to low variance:\n",
      " []\n"
     ]
    }
   ],
   "source": [
    "df = _drop_std(df)"
   ]
  },
  {
   "cell_type": "code",
   "execution_count": 33,
   "metadata": {
    "scrolled": true
   },
   "outputs": [
    {
     "name": "stderr",
     "output_type": "stream",
     "text": [
      "\r",
      "[Stage 46:>                                                         (0 + 1) / 1]"
     ]
    },
    {
     "name": "stdout",
     "output_type": "stream",
     "text": [
      "+---------------+-----+\n",
      "|         Barrio|count|\n",
      "+---------------+-----+\n",
      "|Capital Federal|11618|\n",
      "|   Barrio Norte| 1120|\n",
      "|        Palermo| 1066|\n",
      "|       Belgrano|  888|\n",
      "|         Centro|  861|\n",
      "|  Villa Urquiza|  157|\n",
      "|      Caballito|  137|\n",
      "|       Floresta|   95|\n",
      "|         Flores|   31|\n",
      "|          Nuñez|   31|\n",
      "|        Almagro|   28|\n",
      "|      Mataderos|    5|\n",
      "|   Villa Devoto|    2|\n",
      "|      Argentina|    1|\n",
      "+---------------+-----+\n",
      "\n"
     ]
    },
    {
     "name": "stderr",
     "output_type": "stream",
     "text": [
      "\r",
      "                                                                                \r"
     ]
    }
   ],
   "source": [
    "#El campo Barrio es impreciso y tiene muy poca varianza por lo cual no sirve para el modelo\n",
    "df.select('Barrio').groupby('Barrio').count().orderBy(f.desc('count')).show(100)"
   ]
  },
  {
   "cell_type": "code",
   "execution_count": 34,
   "metadata": {},
   "outputs": [],
   "source": [
    "def _drop_unusable_cols(df, cols=[]):\n",
    "    logger.info(\n",
    "        f\"Dropping the following {len(cols)} unusable columns:\\n\"\n",
    "        f\"{cols}\"\n",
    "    )\n",
    "    df = df.drop(*cols)\n",
    "    logger.info(\n",
    "        f\"Remaining {len(df.columns)} columns:\\n {sorted(df.columns)}\"\n",
    "    )\n",
    "    return df"
   ]
  },
  {
   "cell_type": "code",
   "execution_count": 35,
   "metadata": {
    "scrolled": true
   },
   "outputs": [
    {
     "name": "stderr",
     "output_type": "stream",
     "text": [
      "2021-11-15 12:36:47,727-__main__-INFO: Dropping the following 1 unusable columns:\n",
      "['Barrio']\n",
      "2021-11-15 12:36:47,735-__main__-INFO: Remaining 6 columns:\n",
      " ['Años', 'Baños', 'Dorm', 'Metros', 'Precio', 'Ubicacion']\n"
     ]
    }
   ],
   "source": [
    "df = _drop_unusable_cols(df, cols=['Barrio'])"
   ]
  },
  {
   "cell_type": "markdown",
   "metadata": {},
   "source": [
    "#### Drop Rows con Target Null"
   ]
  },
  {
   "cell_type": "code",
   "execution_count": 36,
   "metadata": {},
   "outputs": [
    {
     "name": "stdout",
     "output_type": "stream",
     "text": [
      "From  16040 rows ,  302  are null values\n"
     ]
    }
   ],
   "source": [
    "#Count Null Values in Target Column Precio\n",
    "NullRows= df.toPandas()['Precio'].isna().sum()\n",
    "print(\"From \", df.count(), \"rows , \", NullRows,\" are null values\")"
   ]
  },
  {
   "cell_type": "code",
   "execution_count": 37,
   "metadata": {},
   "outputs": [
    {
     "name": "stderr",
     "output_type": "stream",
     "text": [
      "2021-11-15 12:36:49,787-__main__-INFO: Dropping the following 302 rows due to target column Null\n"
     ]
    }
   ],
   "source": [
    "#Drop\n",
    "logger.info(f'Dropping the following {NullRows} rows due to target column Null')\n",
    "df = df.filter(df.Precio. isNotNull())"
   ]
  },
  {
   "cell_type": "code",
   "execution_count": 38,
   "metadata": {},
   "outputs": [
    {
     "name": "stdout",
     "output_type": "stream",
     "text": [
      "From  15738 rows ,  0  are null values\n"
     ]
    }
   ],
   "source": [
    "#Count Null Values in Target Column Precio\n",
    "\n",
    "print(\"From \", df.count(), \"rows , \", df.toPandas()['Precio'].isna().sum(),\" are null values\")"
   ]
  },
  {
   "cell_type": "markdown",
   "metadata": {},
   "source": [
    "#### Replace Null Values"
   ]
  },
  {
   "cell_type": "code",
   "execution_count": 39,
   "metadata": {},
   "outputs": [],
   "source": [
    "def _get_typed_cols(df, col_type='cat'):\n",
    "    assert col_type in ('cat', 'num')\n",
    "    dtypes = ('int', 'double') if col_type == 'num' else ('string')\n",
    "    typed_cols = [c for c,dtype in df.dtypes if dtype.startswith(dtypes) \n",
    "                  and c not in PROTECTED_COLS]\n",
    "    return typed_cols"
   ]
  },
  {
   "cell_type": "code",
   "execution_count": 40,
   "metadata": {},
   "outputs": [
    {
     "data": {
      "text/plain": [
       "(['Metros', 'Dorm', 'Baños', 'Años'], ['Ubicacion'])"
      ]
     },
     "execution_count": 40,
     "metadata": {},
     "output_type": "execute_result"
    }
   ],
   "source": [
    "num_cols = _get_typed_cols(df, col_type='num')\n",
    "cat_cols = _get_typed_cols(df, col_type='cat')\n",
    "num_cols, cat_cols"
   ]
  },
  {
   "cell_type": "code",
   "execution_count": 41,
   "metadata": {},
   "outputs": [
    {
     "name": "stderr",
     "output_type": "stream",
     "text": [
      "/usr/local/lib/python3.7/dist-packages/ipykernel_launcher.py:2: FutureWarning: Dropping of nuisance columns in DataFrame reductions (with 'numeric_only=None') is deprecated; in a future version this will raise TypeError.  Select only valid columns before calling the reduction.\n",
      "  \n"
     ]
    },
    {
     "data": {
      "text/plain": [
       "Precio    253839.5\n",
       "Metros        79.0\n",
       "Dorm           2.0\n",
       "Baños          2.0\n",
       "Años          15.0\n",
       "dtype: float64"
      ]
     },
     "execution_count": 41,
     "metadata": {},
     "output_type": "execute_result"
    }
   ],
   "source": [
    "#Values to replace Nulls for each column--> Median\n",
    "df.toPandas().median()"
   ]
  },
  {
   "cell_type": "code",
   "execution_count": 42,
   "metadata": {},
   "outputs": [],
   "source": [
    "def _fill_nulls(df):\n",
    "    for t in ['num', 'cat']:\n",
    "        cols = _get_typed_cols(df, col_type=t)\n",
    "        for c in cols:\n",
    "            if t == 'num':\n",
    "                median_val = df.approxQuantile(c, [0.5], 0)[0]\n",
    "                df = df.fillna(median_val, subset=[c])\n",
    "            else:\n",
    "                val_counts = df.filter(f.col(c).isNotNull()).select(c).groupBy(c).count().orderBy(f.desc('count'))\n",
    "                common_val = val_counts.select(c).first()[0]\n",
    "                df = df.fillna(common_val, subset=[c])\n",
    "    return df"
   ]
  },
  {
   "cell_type": "code",
   "execution_count": 43,
   "metadata": {},
   "outputs": [
    {
     "data": {
      "text/plain": [
       "Precio       0.000000\n",
       "Ubicacion    0.000000\n",
       "Metros       0.040857\n",
       "Dorm         0.001779\n",
       "Baños        0.022303\n",
       "Años         0.202758\n",
       "dtype: float64"
      ]
     },
     "execution_count": 43,
     "metadata": {},
     "output_type": "execute_result"
    }
   ],
   "source": [
    "# Before Replacing Nulls\n",
    "df.toPandas().isnull().mean()"
   ]
  },
  {
   "cell_type": "code",
   "execution_count": 44,
   "metadata": {},
   "outputs": [
    {
     "name": "stderr",
     "output_type": "stream",
     "text": [
      "                                                                                \r"
     ]
    }
   ],
   "source": [
    "df = _fill_nulls(df)"
   ]
  },
  {
   "cell_type": "code",
   "execution_count": 45,
   "metadata": {},
   "outputs": [
    {
     "data": {
      "text/plain": [
       "Precio       0.0\n",
       "Ubicacion    0.0\n",
       "Metros       0.0\n",
       "Dorm         0.0\n",
       "Baños        0.0\n",
       "Años         0.0\n",
       "dtype: float64"
      ]
     },
     "execution_count": 45,
     "metadata": {},
     "output_type": "execute_result"
    }
   ],
   "source": [
    "# After Replacing Nulls\n",
    "df.toPandas().isnull().mean()"
   ]
  },
  {
   "cell_type": "markdown",
   "metadata": {},
   "source": [
    "### Enriquecimiento DF"
   ]
  },
  {
   "cell_type": "markdown",
   "metadata": {},
   "source": [
    "#### Agregamos Comuna"
   ]
  },
  {
   "cell_type": "code",
   "execution_count": 46,
   "metadata": {},
   "outputs": [
    {
     "name": "stderr",
     "output_type": "stream",
     "text": [
      "\r",
      "[Stage 63:>                                                         (0 + 1) / 1]\r",
      "                                                                                \r"
     ]
    },
    {
     "name": "stdout",
     "output_type": "stream",
     "text": [
      "+---------+------+\n",
      "|   BARRIO|COMUNA|\n",
      "+---------+------+\n",
      "|AGRONOMIA|    15|\n",
      "|  ALMAGRO|     5|\n",
      "|BALVANERA|     3|\n",
      "| BARRACAS|     4|\n",
      "| BELGRANO|    13|\n",
      "+---------+------+\n",
      "only showing top 5 rows\n",
      "\n"
     ]
    }
   ],
   "source": [
    "# A partir del barrio vamos a cargarle la comuna\n",
    "\n",
    "\n",
    "#File Ciudad de Buenos Aires = https://data.buenosaires.gob.ar/dataset/barrios\n",
    "dfBarrios = spark.read.csv('/dataset/barrios_comunas_p_Ciencia_de_Datos_y_PP.csv', header=True)\n",
    "dfBarrios.show(5)"
   ]
  },
  {
   "cell_type": "code",
   "execution_count": 47,
   "metadata": {},
   "outputs": [],
   "source": [
    "from itertools import chain\n",
    "from pyspark.sql.functions import upper,col,regexp_replace\n",
    "\n",
    "#Normalizamos algunos aspectos del campo Ubicacion\n",
    "columnName=\"Ubicacion\"\n",
    "df=df.withColumn(columnName, upper(col(columnName)));\n",
    "df=df.withColumn('Ubicacion', regexp_replace('Ubicacion', 'Í', 'I'))\n",
    "df=df.withColumn('Ubicacion', regexp_replace('Ubicacion', 'Á', 'A'))\n",
    "\n",
    "#Join para Obtener Comuna\n",
    "df=df.join( dfBarrios, df.Ubicacion.contains(dfBarrios.BARRIO), \"left\")\n"
   ]
  },
  {
   "cell_type": "code",
   "execution_count": 48,
   "metadata": {},
   "outputs": [
    {
     "name": "stdout",
     "output_type": "stream",
     "text": [
      "+----------------+-----+\n",
      "|       Ubicacion|count|\n",
      "+----------------+-----+\n",
      "|   CID CAMPEADOR|   15|\n",
      "|     BARRIO NAÓN|    5|\n",
      "|         POMPEYA|    5|\n",
      "|           RIVER|    4|\n",
      "|      TRIBUNALES|    3|\n",
      "|   PRIMERA JUNTA|    3|\n",
      "|   PARQUE LEZICA|    2|\n",
      "|BARRIO SAN PEDRO|    2|\n",
      "| CAPITAL FEDERAL|    1|\n",
      "+----------------+-----+\n",
      "\n"
     ]
    }
   ],
   "source": [
    "#Barrios No encontrados\n",
    "df.filter(df.COMUNA.isNull()).groupby('Ubicacion').count().orderBy(f.desc('count')).show(50)\n",
    "df=df.drop(col(\"Ubicacion\"))"
   ]
  },
  {
   "cell_type": "code",
   "execution_count": 49,
   "metadata": {},
   "outputs": [
    {
     "name": "stderr",
     "output_type": "stream",
     "text": [
      "2021-11-15 12:37:00,477-__main__-INFO: Dropping the following 40 rows due to Enrichment column Null\n"
     ]
    }
   ],
   "source": [
    "#Drop Rows without Comuna\n",
    "NullRows= df.toPandas()['COMUNA'].isna().sum()\n",
    "logger.info(f'Dropping the following {NullRows} rows due to Enrichment column Null')\n",
    "df = df.filter(df.COMUNA. isNotNull())"
   ]
  },
  {
   "cell_type": "code",
   "execution_count": 50,
   "metadata": {},
   "outputs": [
    {
     "name": "stdout",
     "output_type": "stream",
     "text": [
      "+--------+------+----+-----+----+-----------------+------+\n",
      "|  Precio|Metros|Dorm|Baños|Años|           BARRIO|COMUNA|\n",
      "+--------+------+----+-----+----+-----------------+------+\n",
      "|580000.0| 160.0|   4|    4|  38|         BELGRANO|    13|\n",
      "|550000.0| 160.0|   4|    4|  38|         BELGRANO|    13|\n",
      "|265000.0|  80.0|   2|    2|  45|     VILLA CRESPO|    15|\n",
      "|200000.0| 101.0|   3|    2|  40|          ALMAGRO|     5|\n",
      "|195000.0|  68.0|   2|    1|  35|PARQUE CENTENARIO|     5|\n",
      "|270000.0|  94.0|   3|    3|  40|          ALMAGRO|     5|\n",
      "|213000.0|  75.0|   3|    1|  40|          PALERMO|    14|\n",
      "+--------+------+----+-----+----+-----------------+------+\n",
      "only showing top 7 rows\n",
      "\n"
     ]
    }
   ],
   "source": [
    "df.count()\n",
    "df.show(7)"
   ]
  },
  {
   "cell_type": "markdown",
   "metadata": {},
   "source": [
    "#### Agregamos Precio/M2 para Validacion"
   ]
  },
  {
   "cell_type": "code",
   "execution_count": 51,
   "metadata": {},
   "outputs": [],
   "source": [
    "df = df.withColumn('PrecioM2', col('Precio') / col('Metros'))"
   ]
  },
  {
   "cell_type": "markdown",
   "metadata": {},
   "source": [
    "### Validacion de datos"
   ]
  },
  {
   "cell_type": "markdown",
   "metadata": {},
   "source": [
    "#### Precio"
   ]
  },
  {
   "cell_type": "code",
   "execution_count": 52,
   "metadata": {},
   "outputs": [
    {
     "name": "stdout",
     "output_type": "stream",
     "text": [
      "+-----------+------+----+-----+----+---------+------+------------------+\n",
      "|     Precio|Metros|Dorm|Baños|Años|   BARRIO|COMUNA|          PrecioM2|\n",
      "+-----------+------+----+-----+----+---------+------+------------------+\n",
      "|5.5408914E7| 124.0|   3|    3|   0|  PALERMO|    14| 446846.0806451613|\n",
      "| 5.337332E7| 100.0|   3|    2|   0|    NUÑEZ|    13|          533733.2|\n",
      "| 4.867772E7|  80.0|   3|    2|   0|    NUÑEZ|    13|          608471.5|\n",
      "| 4.182621E7|  83.0|   2|    2|   0|    NUÑEZ|    13| 503930.2409638554|\n",
      "|3.4843718E7|  78.0|   2|    2|   0|    NUÑEZ|    13| 446714.3333333333|\n",
      "|2.5878768E7|  46.0|   1|    1|   0|    NUÑEZ|    13| 562581.9130434783|\n",
      "|  7900000.0| 650.0|   4|    5|   3| BELGRANO|    13|12153.846153846154|\n",
      "|  6899000.0|  79.0|   2|    2|   0|CABALLITO|     6| 87329.11392405063|\n",
      "|  5800000.0|  79.0|   0|    2|  15| RECOLETA|     2| 73417.72151898734|\n",
      "|  5500000.0| 500.0|   5|    6|   0| BELGRANO|    13|           11000.0|\n",
      "+-----------+------+----+-----+----+---------+------+------------------+\n",
      "only showing top 10 rows\n",
      "\n"
     ]
    }
   ],
   "source": [
    "#There seem to be some outliers in Column Precio due to Precios in $ mixed with Precios in USD\n",
    "df.orderBy(f.desc('Precio')).show(10)"
   ]
  },
  {
   "cell_type": "code",
   "execution_count": 53,
   "metadata": {},
   "outputs": [
    {
     "name": "stderr",
     "output_type": "stream",
     "text": [
      "2021-11-15 12:37:03,315-__main__-INFO: Dropping the following 6 rows due to Price Outlier greater than 10.000.000 USD\n"
     ]
    },
    {
     "data": {
      "text/plain": [
       "15784"
      ]
     },
     "execution_count": 53,
     "metadata": {},
     "output_type": "execute_result"
    }
   ],
   "source": [
    "DeletedRows= df.filter(df.Precio >= 10000000).count()\n",
    "logger.info(f'Dropping the following {DeletedRows} rows due to Price Outlier greater than 10.000.000 USD')\n",
    "df = df.filter(df.Precio < 10000000)\n",
    "df.count()"
   ]
  },
  {
   "cell_type": "markdown",
   "metadata": {},
   "source": [
    "#### Metros"
   ]
  },
  {
   "cell_type": "code",
   "execution_count": 54,
   "metadata": {},
   "outputs": [
    {
     "name": "stdout",
     "output_type": "stream",
     "text": [
      "+---------+------+----+-----+----+----------------+------+------------------+\n",
      "|   Precio|Metros|Dorm|Baños|Años|          BARRIO|COMUNA|          PrecioM2|\n",
      "+---------+------+----+-----+----+----------------+------+------------------+\n",
      "| 628000.0|   1.0|   4|    5|  19|       URQUIZA R|    12|          628000.0|\n",
      "|1950000.0|   1.0|   2|    3|  15|    BARRIO NORTE|     2|         1950000.0|\n",
      "| 229000.0|   1.0|   2|    1|  15|        BELGRANO|    13|          229000.0|\n",
      "| 160000.0|   1.0|   1|    1|  25|          FLORES|     7|          160000.0|\n",
      "| 160000.0|   1.0|   1|    1|  25|        FLORESTA|    10|          160000.0|\n",
      "| 229000.0|   1.0|   2|    1|  15|      COLEGIALES|    13|          229000.0|\n",
      "| 850000.0|   1.0|   3|    3|  15|   PUERTO MADERO|     1|          850000.0|\n",
      "| 110000.0|   1.0|   2|    1|  21|VILLA DEL PARQUE|    11|          110000.0|\n",
      "| 850000.0|   1.8|   2|    2|  15|   PUERTO MADERO|     1| 472222.2222222222|\n",
      "|  46800.0|   2.6|   1|    1|   0|          ABASTO|     3|           18000.0|\n",
      "| 174000.0|   3.0|   1|    2|   8|           NUÑEZ|    13|           58000.0|\n",
      "| 135000.0|   3.0|   1|    1|   3|         LINIERS|     9|           45000.0|\n",
      "| 199000.0|   5.0|   1|    1|  15|           NUÑEZ|    13|           39800.0|\n",
      "| 350000.0|  9.86|   3|    2|   8|       CABALLITO|     6| 35496.95740365112|\n",
      "|  37000.0|  12.0|   1|    1|  15|        RECOLETA|     2|3083.3333333333335|\n",
      "|  15000.0|  12.0|   0|    1|  39|       MATADEROS|     9|            1250.0|\n",
      "| 150000.0|  15.0|   1|    1|  15|       CABALLITO|     6|           10000.0|\n",
      "| 460000.0|15.973|   2|    2|  15|        BELGRANO|    13|28798.597633506542|\n",
      "|  30200.0|  19.0|   2|    1|  15|          CENTRO|     1|1589.4736842105262|\n",
      "|  37600.0|  19.0|   2|    1|  15|          CENTRO|     1|1978.9473684210527|\n",
      "|  33200.0|  19.0|   2|    1|  15|          CENTRO|     1|1747.3684210526317|\n",
      "|  55000.0|  20.0|   0|    1|  40|        BOTANICO|    14|            2750.0|\n",
      "|  49900.0|  21.0|   1|    1|  40|    BARRIO NORTE|     2| 2376.190476190476|\n",
      "|  48400.0|  21.0|   2|    1|  15|          CENTRO|     1|2304.7619047619046|\n",
      "|  62500.0|  21.0|   0|    1|  30|         ALMAGRO|     5| 2976.190476190476|\n",
      "+---------+------+----+-----+----+----------------+------+------------------+\n",
      "only showing top 25 rows\n",
      "\n"
     ]
    }
   ],
   "source": [
    "df.orderBy(f.asc('Metros')).show(25)"
   ]
  },
  {
   "cell_type": "code",
   "execution_count": 55,
   "metadata": {},
   "outputs": [
    {
     "name": "stderr",
     "output_type": "stream",
     "text": [
      "2021-11-15 12:37:05,612-__main__-INFO: Dropping the following 14 rows due to Minimum Metros less than 10\n"
     ]
    },
    {
     "data": {
      "text/plain": [
       "15770"
      ]
     },
     "execution_count": 55,
     "metadata": {},
     "output_type": "execute_result"
    }
   ],
   "source": [
    "DeletedRows= df.filter(df.Metros < 10).count()\n",
    "logger.info(f'Dropping the following {DeletedRows} rows due to Minimum Metros less than 10')\n",
    "df = df.filter(df.Metros >= 10)\n",
    "df.count()"
   ]
  },
  {
   "cell_type": "code",
   "execution_count": 56,
   "metadata": {},
   "outputs": [
    {
     "name": "stderr",
     "output_type": "stream",
     "text": [
      "2021-11-15 12:37:07,467-matplotlib.font_manager-INFO: generated new fontManager\n"
     ]
    }
   ],
   "source": [
    "# Plotting\n",
    "import matplotlib.pyplot as plt\n",
    "import seaborn as sns\n"
   ]
  },
  {
   "cell_type": "code",
   "execution_count": 57,
   "metadata": {},
   "outputs": [
    {
     "name": "stderr",
     "output_type": "stream",
     "text": [
      "/usr/local/lib/python3.7/dist-packages/seaborn/distributions.py:2619: FutureWarning: `distplot` is a deprecated function and will be removed in a future version. Please adapt your code to use either `displot` (a figure-level function with similar flexibility) or `histplot` (an axes-level function for histograms).\n",
      "  warnings.warn(msg, FutureWarning)\n"
     ]
    },
    {
     "data": {
      "image/png": "[encoded data removed]",
      "text/plain": [
       "<Figure size 432x288 with 1 Axes>"
      ]
     },
     "metadata": {
      "needs_background": "light"
     },
     "output_type": "display_data"
    }
   ],
   "source": [
    "g = sns.distplot(df.select('Metros').toPandas(), color='m')"
   ]
  },
  {
   "cell_type": "code",
   "execution_count": 58,
   "metadata": {},
   "outputs": [
    {
     "name": "stderr",
     "output_type": "stream",
     "text": [
      "2021-11-15 12:37:11,374-__main__-INFO: Dropping the following 288 rows due to Maximum Metros greater than 300\n"
     ]
    },
    {
     "data": {
      "text/plain": [
       "15482"
      ]
     },
     "execution_count": 58,
     "metadata": {},
     "output_type": "execute_result"
    }
   ],
   "source": [
    "# We are not interested for this experiment in cases bigger than 400 Metros\n",
    "DeletedRows= df.filter(df.Metros > 300).count()\n",
    "logger.info(f'Dropping the following {DeletedRows} rows due to Maximum Metros greater than 300')\n",
    "df = df.filter(df.Metros <= 300)\n",
    "df.count()\n"
   ]
  },
  {
   "cell_type": "markdown",
   "metadata": {},
   "source": [
    "#### Precio M2"
   ]
  },
  {
   "cell_type": "code",
   "execution_count": 59,
   "metadata": {},
   "outputs": [
    {
     "name": "stderr",
     "output_type": "stream",
     "text": [
      "/usr/local/lib/python3.7/dist-packages/seaborn/distributions.py:2619: FutureWarning: `distplot` is a deprecated function and will be removed in a future version. Please adapt your code to use either `displot` (a figure-level function with similar flexibility) or `histplot` (an axes-level function for histograms).\n",
      "  warnings.warn(msg, FutureWarning)\n"
     ]
    },
    {
     "data": {
      "image/png": "[encoded data removed]",
      "text/plain": [
       "<Figure size 432x288 with 1 Axes>"
      ]
     },
     "metadata": {
      "needs_background": "light"
     },
     "output_type": "display_data"
    }
   ],
   "source": [
    "g = sns.distplot(df.select('PrecioM2').toPandas(), color='m')"
   ]
  },
  {
   "cell_type": "code",
   "execution_count": 60,
   "metadata": {},
   "outputs": [
    {
     "name": "stdout",
     "output_type": "stream",
     "text": [
      "+---------+------+----+-----+----+-------------+------+------------------+\n",
      "|   Precio|Metros|Dorm|Baños|Años|       BARRIO|COMUNA|          PrecioM2|\n",
      "+---------+------+----+-----+----+-------------+------+------------------+\n",
      "|5000345.0|  56.0|   3|    1|  50|  SAN NICOLAS|     1|         89291.875|\n",
      "|6899000.0|  79.0|   2|    2|   0|    CABALLITO|     6| 87329.11392405063|\n",
      "|5800000.0|  79.0|   0|    2|  15|     RECOLETA|     2| 73417.72151898734|\n",
      "|2950000.0|  79.0|   3|    3|  16|PUERTO MADERO|     1| 37341.77215189873|\n",
      "|2500000.0|  79.0|   5|    3|  40|     BELGRANO|    13|31645.569620253165|\n",
      "|2490000.0|  79.0|   3|    4|   2|PUERTO MADERO|     1| 31518.98734177215|\n",
      "|2400000.0|  79.0|   4|    4|  20|      PALERMO|    14| 30379.74683544304|\n",
      "|2399000.0|  79.0|   3|    4|  15|PUERTO MADERO|     1| 30367.08860759494|\n",
      "|2300000.0|  79.0|   3|    6|  25|      PALERMO|    14| 29113.92405063291|\n",
      "|2300000.0|  79.0|   4|    4|   9|PUERTO MADERO|     1| 29113.92405063291|\n",
      "| 460000.0|15.973|   2|    2|  15|     BELGRANO|    13|28798.597633506542|\n",
      "|1980000.0|  79.0|   4|    4|  15|      PALERMO|    14|25063.291139240508|\n",
      "|1980000.0|  79.0|   4|    4|  15|     BOTANICO|    14|25063.291139240508|\n",
      "|1980000.0|  79.0|   4|    4|  15|      PALERMO|    14|25063.291139240508|\n",
      "|1800000.0|  79.0|   3|    5|  15|PUERTO MADERO|     1|22784.810126582277|\n",
      "|1790000.0|  79.0|   3|    4|  15|PUERTO MADERO|     1|22658.227848101265|\n",
      "|1700000.0|  79.0|   5|    5|  15|      PALERMO|    14| 21518.98734177215|\n",
      "|1620000.0|  79.0|   4|    2|  15|     BELGRANO|    13| 20506.32911392405|\n",
      "|1600000.0|  79.0|   3|    4|  15|PUERTO MADERO|     1|20253.164556962027|\n",
      "|1560000.0|  79.0|   3|    3|  15| BARRIO NORTE|     2|19746.835443037973|\n",
      "|1500000.0|  79.0|   4|    4|  15|     BELGRANO|    13|  18987.3417721519|\n",
      "|1500000.0|  79.0|   5|    5|  15|      PALERMO|    14|  18987.3417721519|\n",
      "|1500000.0|  79.0|   3|    4|  15|      PALERMO|    14|  18987.3417721519|\n",
      "|1500000.0|  79.0|   5|    4|  10|     BELGRANO|    13|  18987.3417721519|\n",
      "|1490000.0|  79.0|   4|    5|  10|PUERTO MADERO|     1|18860.759493670885|\n",
      "+---------+------+----+-----+----+-------------+------+------------------+\n",
      "only showing top 25 rows\n",
      "\n"
     ]
    }
   ],
   "source": [
    "df.orderBy(f.desc('PrecioM2')).show(25)"
   ]
  },
  {
   "cell_type": "code",
   "execution_count": 61,
   "metadata": {},
   "outputs": [
    {
     "name": "stderr",
     "output_type": "stream",
     "text": [
      "2021-11-15 12:37:15,140-__main__-INFO: Dropping the following 199 rows due to Precio M2  greater than USD 8.500\n"
     ]
    },
    {
     "data": {
      "text/plain": [
       "15283"
      ]
     },
     "execution_count": 61,
     "metadata": {},
     "output_type": "execute_result"
    }
   ],
   "source": [
    "DeletedRows= df.filter(df.PrecioM2 > 8500).count()\n",
    "logger.info(f'Dropping the following {DeletedRows} rows due to Precio M2  greater than USD 8.500')\n",
    "df = df.filter(df.PrecioM2 <= 8500)\n",
    "df.count()"
   ]
  },
  {
   "cell_type": "markdown",
   "metadata": {},
   "source": [
    "#### Años"
   ]
  },
  {
   "cell_type": "code",
   "execution_count": 62,
   "metadata": {},
   "outputs": [
    {
     "name": "stdout",
     "output_type": "stream",
     "text": [
      "+-----+-----+\n",
      "| Años|count|\n",
      "+-----+-----+\n",
      "|40000|    3|\n",
      "|30000|    1|\n",
      "| 2020|    1|\n",
      "| 2019|    1|\n",
      "| 2017|    1|\n",
      "| 2015|    2|\n",
      "| 2013|    3|\n",
      "| 2012|    1|\n",
      "| 2010|    3|\n",
      "| 2007|    1|\n",
      "| 2006|    1|\n",
      "| 1991|    1|\n",
      "| 1988|    2|\n",
      "| 1985|    1|\n",
      "| 1983|    1|\n",
      "| 1981|    2|\n",
      "| 1980|    2|\n",
      "| 1978|    1|\n",
      "| 1976|    3|\n",
      "| 1961|    1|\n",
      "| 1960|    3|\n",
      "|  103|    1|\n",
      "|  100|    6|\n",
      "|   97|    1|\n",
      "|   91|    2|\n",
      "+-----+-----+\n",
      "only showing top 25 rows\n",
      "\n"
     ]
    }
   ],
   "source": [
    "df.groupby('Años').count().orderBy(f.desc('Años')).show(25)"
   ]
  },
  {
   "cell_type": "code",
   "execution_count": 63,
   "metadata": {},
   "outputs": [
    {
     "name": "stderr",
     "output_type": "stream",
     "text": [
      "2021-11-15 12:37:17,720-__main__-INFO: Dropping the following 4 rows due to Invalid Info in Años\n"
     ]
    },
    {
     "data": {
      "text/plain": [
       "15279"
      ]
     },
     "execution_count": 63,
     "metadata": {},
     "output_type": "execute_result"
    }
   ],
   "source": [
    "from datetime import date\n",
    "  \n",
    "# creating the date object of today's date\n",
    "currentYear = date.today().year\n",
    "\n",
    "DeletedRows= df.filter(df.Años > currentYear).count()\n",
    "logger.info(f'Dropping the following {DeletedRows} rows due to Invalid Info in Años')\n",
    "df = df.filter(df.Años <= currentYear)\n",
    "df.count()"
   ]
  },
  {
   "cell_type": "code",
   "execution_count": 64,
   "metadata": {},
   "outputs": [
    {
     "name": "stderr",
     "output_type": "stream",
     "text": [
      "2021-11-15 12:37:19,100-__main__-INFO: Correcting the following 31 rows due to Year of construction in Años\n"
     ]
    }
   ],
   "source": [
    "# Corrijo los campos del año que son calculables\n",
    "from pyspark.sql.functions import when,mean\n",
    "CorrectedRows=df.filter(df.Años > 1700).count()\n",
    "logger.info(f'Correcting the following {CorrectedRows} rows due to Year of construction in Años')\n",
    "df=df.withColumn(\"Años\", when(df[\"Años\"] > 1700 , currentYear-df[\"Años\"]).otherwise(df[\"Años\"]))\n",
    "#df = df.withColumn('title', when(df['title'] == 'Miss', 'Mrs').otherwise(df['title']))"
   ]
  },
  {
   "cell_type": "code",
   "execution_count": 65,
   "metadata": {},
   "outputs": [
    {
     "name": "stderr",
     "output_type": "stream",
     "text": [
      "/usr/local/lib/python3.7/dist-packages/seaborn/_decorators.py:43: FutureWarning: Pass the following variable as a keyword arg: x. From version 0.12, the only valid positional argument will be `data`, and passing other arguments without an explicit keyword will result in an error or misinterpretation.\n",
      "  FutureWarning\n"
     ]
    },
    {
     "data": {
      "image/png": "[encoded data removed]",
      "text/plain": [
       "<Figure size 432x288 with 1 Axes>"
      ]
     },
     "metadata": {
      "needs_background": "light"
     },
     "output_type": "display_data"
    }
   ],
   "source": [
    "#Box Plot Años\n",
    "g = sns.boxplot(df.select(\"Años\").rdd.flatMap(lambda x: x).collect())"
   ]
  },
  {
   "cell_type": "markdown",
   "metadata": {},
   "source": [
    "#### Entendemos el DF"
   ]
  },
  {
   "cell_type": "code",
   "execution_count": 66,
   "metadata": {},
   "outputs": [
    {
     "data": {
      "image/png": "[encoded data removed]",
      "text/plain": [
       "<Figure size 432x288 with 2 Axes>"
      ]
     },
     "metadata": {
      "needs_background": "light"
     },
     "output_type": "display_data"
    }
   ],
   "source": [
    "g = sns.heatmap(df.select('Baños', 'Precio', 'Dorm', 'Metros', 'Años').toPandas().corr(),\n",
    "                annot=True, fmt = \".2f\", cmap = \"coolwarm\")"
   ]
  },
  {
   "cell_type": "code",
   "execution_count": 67,
   "metadata": {},
   "outputs": [
    {
     "name": "stderr",
     "output_type": "stream",
     "text": [
      "\r",
      "[Stage 126:>                                                        (0 + 1) / 1]\r",
      "                                                                                \r"
     ]
    },
    {
     "data": {
      "image/png": "[encoded data removed]",
      "text/plain": [
       "<Figure size 432x288 with 1 Axes>"
      ]
     },
     "metadata": {
      "needs_background": "light"
     },
     "output_type": "display_data"
    }
   ],
   "source": [
    "ax = sns.scatterplot(x=\"Precio\", y=\"Metros\", data=df.toPandas())"
   ]
  },
  {
   "cell_type": "code",
   "execution_count": 68,
   "metadata": {},
   "outputs": [
    {
     "name": "stdout",
     "output_type": "stream",
     "text": [
      " Valores Totales:  15279 \n",
      " Valores Repetidos:  755 \n",
      " Valores Unicos:  14524\n"
     ]
    }
   ],
   "source": [
    "dfP=df.toPandas()\n",
    "\n",
    "\n",
    "print (\" Valores Totales: \" , dfP.Precio.count() , \"\\n Valores Repetidos: \", sum(dfP.duplicated()),\"\\n Valores Unicos: \", dfP.Precio.count() - sum(dfP.duplicated()))"
   ]
  },
  {
   "cell_type": "code",
   "execution_count": 69,
   "metadata": {},
   "outputs": [
    {
     "name": "stdout",
     "output_type": "stream",
     "text": [
      "+----------------+------+------------------+\n",
      "|          BARRIO|COMUNA|     avg(PrecioM2)|\n",
      "+----------------+------+------------------+\n",
      "|   PUERTO MADERO|     1|5745.0425864044055|\n",
      "|     LAS CAÑITAS|    14| 4054.496877721039|\n",
      "|         PALERMO|    14|3987.2322283170106|\n",
      "|PARQUE LAS HERAS|    14|3928.1639031346995|\n",
      "|        BOTANICO|    14| 3779.942980382309|\n",
      "|           NUÑEZ|    13|  3677.78057573725|\n",
      "|        BELGRANO|    13| 3663.374957096726|\n",
      "|        RECOLETA|     2| 3493.507231068262|\n",
      "|       URQUIZA R|    12| 3481.746237118997|\n",
      "|    BARRIO NORTE|     2| 3438.292519923174|\n",
      "+----------------+------+------------------+\n",
      "only showing top 10 rows\n",
      "\n"
     ]
    },
    {
     "name": "stderr",
     "output_type": "stream",
     "text": [
      "\r",
      "[Stage 129:>                                                        (0 + 1) / 1]\r",
      "                                                                                \r"
     ]
    }
   ],
   "source": [
    "df.groupby('BARRIO','COMUNA').agg(mean(\"PrecioM2\")).orderBy(f.desc('avg(PrecioM2)')).show(10)"
   ]
  },
  {
   "cell_type": "code",
   "execution_count": 70,
   "metadata": {},
   "outputs": [],
   "source": [
    "#Drop PrecioM2 \n",
    "df=df.drop(col(\"PrecioM2\"))"
   ]
  },
  {
   "cell_type": "markdown",
   "metadata": {},
   "source": [
    "### Split Train Test"
   ]
  },
  {
   "cell_type": "code",
   "execution_count": 71,
   "metadata": {},
   "outputs": [],
   "source": [
    "from pyspark.sql.functions import rand, when,mean\n",
    "df = df.withColumn('train', when(rand(seed=1234) >= 0.25, True).otherwise(False))"
   ]
  },
  {
   "cell_type": "code",
   "execution_count": 72,
   "metadata": {},
   "outputs": [
    {
     "name": "stdout",
     "output_type": "stream",
     "text": [
      "+-----+-----+\n",
      "|train|count|\n",
      "+-----+-----+\n",
      "| true|11419|\n",
      "|false| 3860|\n",
      "+-----+-----+\n",
      "\n"
     ]
    }
   ],
   "source": [
    "df.select('train').groupby('train').count().show()"
   ]
  },
  {
   "cell_type": "markdown",
   "metadata": {},
   "source": [
    "### Preprocessing Pipeline"
   ]
  },
  {
   "cell_type": "code",
   "execution_count": 73,
   "metadata": {},
   "outputs": [
    {
     "data": {
      "text/plain": [
       "(['Precio', 'Metros', 'Dorm', 'Baños', 'Años', 'BARRIO', 'COMUNA', 'train'],\n",
       " ['BARRIO', 'COMUNA'],\n",
       " ['Metros', 'Dorm', 'Baños', 'Años'])"
      ]
     },
     "execution_count": 73,
     "metadata": {},
     "output_type": "execute_result"
    }
   ],
   "source": [
    "num_cols = _get_typed_cols(df, col_type='num')\n",
    "cat_cols = _get_typed_cols(df, col_type='cat')\n",
    "df.columns, cat_cols, num_cols"
   ]
  },
  {
   "cell_type": "code",
   "execution_count": 74,
   "metadata": {},
   "outputs": [],
   "source": [
    "from pyspark.ml.feature import StringIndexer\n",
    "\n",
    "def _encode_categorical(df):\n",
    "    cat_cols = _get_typed_cols(df, col_type='cat')\n",
    "    logger.info(f\"Categorical columns:\\n {cat_cols}\")\n",
    "    encoded_cols = []\n",
    "    for cat in cat_cols:\n",
    "        cat_suff = f'{cat}_num'\n",
    "        encoded_cols.append(cat_suff)\n",
    "        if cat_suff not in df.columns:\n",
    "            indexer = StringIndexer(inputCol=cat, outputCol=cat_suff).fit(df)\n",
    "            df = indexer.transform(df)\n",
    "    return df, encoded_cols"
   ]
  },
  {
   "cell_type": "code",
   "execution_count": 75,
   "metadata": {},
   "outputs": [
    {
     "name": "stderr",
     "output_type": "stream",
     "text": [
      "2021-11-15 12:37:28,518-__main__-INFO: Categorical columns:\n",
      " ['BARRIO', 'COMUNA']\n",
      "                                                                                \r"
     ]
    },
    {
     "name": "stdout",
     "output_type": "stream",
     "text": [
      "+--------+------+----+-----+----+-----------------+------+-----+----------+----------+\n",
      "|  Precio|Metros|Dorm|Baños|Años|           BARRIO|COMUNA|train|BARRIO_num|COMUNA_num|\n",
      "+--------+------+----+-----+----+-----------------+------+-----+----------+----------+\n",
      "|580000.0| 160.0|   4|    4|  38|         BELGRANO|    13| true|       0.0|       0.0|\n",
      "|550000.0| 160.0|   4|    4|  38|         BELGRANO|    13| true|       0.0|       0.0|\n",
      "|265000.0|  80.0|   2|    2|  45|     VILLA CRESPO|    15| true|      11.0|       9.0|\n",
      "|200000.0| 101.0|   3|    2|  40|          ALMAGRO|     5| true|       9.0|       8.0|\n",
      "|195000.0|  68.0|   2|    1|  35|PARQUE CENTENARIO|     5| true|      33.0|       8.0|\n",
      "+--------+------+----+-----+----+-----------------+------+-----+----------+----------+\n",
      "only showing top 5 rows\n",
      "\n"
     ]
    }
   ],
   "source": [
    "df, encoded_cols = _encode_categorical(df)\n",
    "df.show(5)"
   ]
  },
  {
   "cell_type": "code",
   "execution_count": 76,
   "metadata": {},
   "outputs": [
    {
     "data": {
      "text/plain": [
       "['Metros', 'Dorm', 'Baños', 'Años', 'BARRIO_num', 'COMUNA_num']"
      ]
     },
     "execution_count": 76,
     "metadata": {},
     "output_type": "execute_result"
    }
   ],
   "source": [
    "feature_cols = num_cols + encoded_cols\n",
    "feature_cols"
   ]
  },
  {
   "cell_type": "code",
   "execution_count": 77,
   "metadata": {
    "scrolled": true
   },
   "outputs": [
    {
     "name": "stdout",
     "output_type": "stream",
     "text": [
      "+--------+------+----+-----+----+-----------------+------+-----+----------+----------+---------------+--------------+\n",
      "|  Precio|Metros|Dorm|Baños|Años|           BARRIO|COMUNA|train|BARRIO_num|COMUNA_num| BARRIO_num_vec|COMUNA_num_vec|\n",
      "+--------+------+----+-----+----+-----------------+------+-----+----------+----------+---------------+--------------+\n",
      "|580000.0| 160.0|   4|    4|  38|         BELGRANO|    13| true|       0.0|       0.0| (57,[0],[1.0])|(14,[0],[1.0])|\n",
      "|550000.0| 160.0|   4|    4|  38|         BELGRANO|    13| true|       0.0|       0.0| (57,[0],[1.0])|(14,[0],[1.0])|\n",
      "|265000.0|  80.0|   2|    2|  45|     VILLA CRESPO|    15| true|      11.0|       9.0|(57,[11],[1.0])|(14,[9],[1.0])|\n",
      "|200000.0| 101.0|   3|    2|  40|          ALMAGRO|     5| true|       9.0|       8.0| (57,[9],[1.0])|(14,[8],[1.0])|\n",
      "|195000.0|  68.0|   2|    1|  35|PARQUE CENTENARIO|     5| true|      33.0|       8.0|(57,[33],[1.0])|(14,[8],[1.0])|\n",
      "+--------+------+----+-----+----+-----------------+------+-----+----------+----------+---------------+--------------+\n",
      "only showing top 5 rows\n",
      "\n"
     ]
    }
   ],
   "source": [
    "from pyspark.ml.feature import OneHotEncoderEstimator\n",
    "\n",
    "ohe_cols = [f'{c}_vec' for c in encoded_cols]\n",
    "encoder = OneHotEncoderEstimator(inputCols=encoded_cols, outputCols=ohe_cols)\n",
    "ohem = encoder.fit(df)\n",
    "df = ohem.transform(df)\n",
    "df.show(5)\n",
    "feature_cols = num_cols + ohe_cols"
   ]
  },
  {
   "cell_type": "code",
   "execution_count": 78,
   "metadata": {},
   "outputs": [
    {
     "data": {
      "text/plain": [
       "['Metros', 'Dorm', 'Baños', 'Años', 'BARRIO_num_vec', 'COMUNA_num_vec']"
      ]
     },
     "execution_count": 78,
     "metadata": {},
     "output_type": "execute_result"
    }
   ],
   "source": [
    "feature_cols"
   ]
  },
  {
   "cell_type": "code",
   "execution_count": 79,
   "metadata": {},
   "outputs": [
    {
     "name": "stdout",
     "output_type": "stream",
     "text": [
      "+--------------------+\n",
      "|            features|\n",
      "+--------------------+\n",
      "|(75,[0,1,2,3,4,61...|\n",
      "+--------------------+\n",
      "only showing top 1 row\n",
      "\n"
     ]
    }
   ],
   "source": [
    "from pyspark.ml.feature import VectorAssembler\n",
    "\n",
    "assembler = VectorAssembler(inputCols=feature_cols, outputCol='features')\n",
    "df = assembler.transform(df)\n",
    "df.select('features').show(1)"
   ]
  },
  {
   "cell_type": "code",
   "execution_count": 80,
   "metadata": {},
   "outputs": [],
   "source": [
    "train_data = df.filter(f.col('train') == True).select('Precio', 'features')\n",
    "test_data = df.filter(f.col('train') == False).select('Precio', 'features')"
   ]
  },
  {
   "cell_type": "markdown",
   "metadata": {},
   "source": [
    "## Testing modelos"
   ]
  },
  {
   "cell_type": "markdown",
   "metadata": {},
   "source": [
    "### Linear Regression"
   ]
  },
  {
   "cell_type": "code",
   "execution_count": 81,
   "metadata": {},
   "outputs": [
    {
     "name": "stderr",
     "output_type": "stream",
     "text": [
      "[Stage 152:>                                                        (0 + 1) / 1]21/11/15 12:37:40 WARN BLAS: Failed to load implementation from: com.github.fommil.netlib.NativeSystemBLAS\n",
      "21/11/15 12:37:40 WARN BLAS: Failed to load implementation from: com.github.fommil.netlib.NativeRefBLAS\n",
      "                                                                                \r"
     ]
    }
   ],
   "source": [
    "from pyspark.ml.regression import LinearRegression\n",
    "\n",
    "\n",
    "lr = LinearRegression(maxIter=10, regParam=0.3, elasticNetParam=0.8,labelCol='Precio', featuresCol='features')\n",
    "\n",
    "# Fit the model\n",
    "lrModel = lr.fit(train_data)"
   ]
  },
  {
   "cell_type": "code",
   "execution_count": 82,
   "metadata": {},
   "outputs": [],
   "source": [
    "pred_df = lrModel.transform(test_data)"
   ]
  },
  {
   "cell_type": "code",
   "execution_count": 83,
   "metadata": {},
   "outputs": [
    {
     "name": "stdout",
     "output_type": "stream",
     "text": [
      "R2:    0.7629572529287415\n",
      "RMSE:  120690.09615839328\n",
      "MAE:   75123.85532144249\n"
     ]
    }
   ],
   "source": [
    "from pyspark.ml.evaluation import RegressionEvaluator\n",
    "\n",
    "evaluator = RegressionEvaluator(labelCol='Precio')\n",
    "print (\"R2:   \",evaluator.evaluate(pred_df, {evaluator.metricName: \"r2\"}))\n",
    "print (\"RMSE: \",evaluator.evaluate(pred_df, {evaluator.metricName: \"rmse\"}))\n",
    "print (\"MAE:  \",evaluator.evaluate(pred_df, {evaluator.metricName: \"mae\"}))\n"
   ]
  },
  {
   "cell_type": "markdown",
   "metadata": {},
   "source": [
    "### Decision Trees"
   ]
  },
  {
   "cell_type": "code",
   "execution_count": 84,
   "metadata": {},
   "outputs": [
    {
     "name": "stderr",
     "output_type": "stream",
     "text": [
      "                                                                                \r"
     ]
    }
   ],
   "source": [
    "from pyspark.ml.regression import DecisionTreeRegressor\n",
    "\n",
    "dt = DecisionTreeRegressor(labelCol='Precio', featuresCol='features',maxDepth=8, maxBins=32)\n",
    "dtModel = dt.fit(train_data)"
   ]
  },
  {
   "cell_type": "code",
   "execution_count": 85,
   "metadata": {},
   "outputs": [],
   "source": [
    "pred_df = dtModel.transform(test_data)"
   ]
  },
  {
   "cell_type": "code",
   "execution_count": 86,
   "metadata": {},
   "outputs": [
    {
     "name": "stdout",
     "output_type": "stream",
     "text": [
      "R2:    0.766991723949067\n",
      "RMSE:  119658.61476517876\n",
      "MAE:   71226.03575342063\n"
     ]
    }
   ],
   "source": [
    "from pyspark.ml.evaluation import RegressionEvaluator\n",
    "\n",
    "evaluator = RegressionEvaluator(labelCol='Precio')\n",
    "print (\"R2:   \",evaluator.evaluate(pred_df, {evaluator.metricName: \"r2\"}))\n",
    "print (\"RMSE: \",evaluator.evaluate(pred_df, {evaluator.metricName: \"rmse\"}))\n",
    "print (\"MAE:  \",evaluator.evaluate(pred_df, {evaluator.metricName: \"mae\"}))\n"
   ]
  },
  {
   "cell_type": "markdown",
   "metadata": {},
   "source": [
    "### RandomForest"
   ]
  },
  {
   "cell_type": "code",
   "execution_count": 87,
   "metadata": {},
   "outputs": [
    {
     "name": "stderr",
     "output_type": "stream",
     "text": [
      "                                                                                \r"
     ]
    }
   ],
   "source": [
    "from pyspark.ml.regression import RandomForestRegressor\n",
    "\n",
    "rf = RandomForestRegressor(labelCol='Precio', featuresCol='features',maxDepth=8)\n",
    "rfModel = rf.fit(train_data)"
   ]
  },
  {
   "cell_type": "code",
   "execution_count": 88,
   "metadata": {},
   "outputs": [],
   "source": [
    "pred_df = rfModel.transform(test_data)"
   ]
  },
  {
   "cell_type": "code",
   "execution_count": 89,
   "metadata": {},
   "outputs": [
    {
     "name": "stdout",
     "output_type": "stream",
     "text": [
      "R2:    0.771787241162841\n",
      "RMSE:  118420.87293041755\n",
      "MAE:   70491.59781835259\n"
     ]
    }
   ],
   "source": [
    "from pyspark.ml.evaluation import RegressionEvaluator\n",
    "\n",
    "evaluator = RegressionEvaluator(labelCol='Precio')\n",
    "print (\"R2:   \",evaluator.evaluate(pred_df, {evaluator.metricName: \"r2\"}))\n",
    "print (\"RMSE: \",evaluator.evaluate(pred_df, {evaluator.metricName: \"rmse\"}))\n",
    "print (\"MAE:  \",evaluator.evaluate(pred_df, {evaluator.metricName: \"mae\"}))\n"
   ]
  },
  {
   "cell_type": "markdown",
   "metadata": {},
   "source": [
    "### Gradient-boosted tree regression"
   ]
  },
  {
   "cell_type": "code",
   "execution_count": 90,
   "metadata": {},
   "outputs": [
    {
     "name": "stderr",
     "output_type": "stream",
     "text": [
      "\r",
      "[Stage 224:>                                                        (0 + 1) / 1]\r",
      "                                                                                \r"
     ]
    }
   ],
   "source": [
    "from pyspark.ml.regression import GBTRegressor\n",
    "\n",
    "gbt = GBTRegressor(labelCol='Precio', featuresCol='features',maxDepth=5)\n",
    "gbtModel = gbt.fit(train_data)"
   ]
  },
  {
   "cell_type": "code",
   "execution_count": 91,
   "metadata": {},
   "outputs": [
    {
     "data": {
      "text/plain": [
       "DataFrame[Precio: double, features: vector, prediction: double]"
      ]
     },
     "execution_count": 91,
     "metadata": {},
     "output_type": "execute_result"
    }
   ],
   "source": [
    "pred_df"
   ]
  },
  {
   "cell_type": "code",
   "execution_count": 92,
   "metadata": {},
   "outputs": [
    {
     "name": "stdout",
     "output_type": "stream",
     "text": [
      "R2:    0.7946752708246505\n",
      "RMSE:  112325.64649875398\n",
      "MAE:   67532.2843106857\n"
     ]
    }
   ],
   "source": [
    "from pyspark.ml.evaluation import RegressionEvaluator\n",
    "\n",
    "pred_df = gbtModel.transform(test_data)\n",
    "evaluator = RegressionEvaluator(labelCol='Precio')\n",
    "print (\"R2:   \",evaluator.evaluate(pred_df, {evaluator.metricName: \"r2\"}))\n",
    "print (\"RMSE: \",evaluator.evaluate(pred_df, {evaluator.metricName: \"rmse\"}))\n",
    "print (\"MAE:  \",evaluator.evaluate(pred_df, {evaluator.metricName: \"mae\"}))\n"
   ]
  },
  {
   "cell_type": "markdown",
   "metadata": {},
   "source": [
    "## GridSearch + Cross Validation on GBT"
   ]
  },
  {
   "cell_type": "code",
   "execution_count": 93,
   "metadata": {},
   "outputs": [
    {
     "name": "stdout",
     "output_type": "stream",
     "text": [
      "Object `CrossValidator` not found.\n"
     ]
    }
   ],
   "source": [
    "CrossValidator?"
   ]
  },
  {
   "cell_type": "code",
   "execution_count": 94,
   "metadata": {},
   "outputs": [
    {
     "data": {
      "text/plain": [
       "CrossValidator_23bd24cda1a1"
      ]
     },
     "execution_count": 94,
     "metadata": {},
     "output_type": "execute_result"
    }
   ],
   "source": [
    "from pyspark.ml.feature import OneHotEncoder\n",
    "from pyspark.ml import Pipeline\n",
    "from pyspark.ml.tuning import CrossValidator, CrossValidatorModel, ParamGridBuilder\n",
    "import pandas as pd\n",
    "\n",
    "\n",
    "gbt =  GBTRegressor(labelCol='Precio', featuresCol='features')\n",
    "\n",
    "paramGrid = ParamGridBuilder()\\\n",
    "  .addGrid(gbt.maxDepth, [5,6,7])\\\n",
    "  .addGrid(gbt.maxBins, [10,32,50])\\\n",
    "  .addGrid(gbt.maxIter, [20,40,60,80])\\\n",
    "  .build()\n",
    "\n",
    "\n",
    "pipeline = Pipeline(stages=[gbt])\n",
    "\n",
    "evaluator = RegressionEvaluator()\n",
    "evaluator.setLabelCol(\"Precio\")\n",
    "evaluator.setMetricName(\"r2\")\n",
    "\n",
    "# Declare the CrossValidator, which performs the model tuning.\n",
    "cv = CrossValidator(estimator=pipeline, evaluator=evaluator, estimatorParamMaps=paramGrid,numFolds=3)\n",
    "cv.setCollectSubModels(False) # cv after fitting returns only one model\n"
   ]
  },
  {
   "cell_type": "code",
   "execution_count": 95,
   "metadata": {},
   "outputs": [
    {
     "name": "stderr",
     "output_type": "stream",
     "text": [
      "                                                                                \r"
     ]
    }
   ],
   "source": [
    "cvModel = cv.fit(train_data)"
   ]
  },
  {
   "cell_type": "code",
   "execution_count": 96,
   "metadata": {},
   "outputs": [
    {
     "data": {
      "text/html": [
       "<div>\n",
       "<style scoped>\n",
       "    .dataframe tbody tr th:only-of-type {\n",
       "        vertical-align: middle;\n",
       "    }\n",
       "\n",
       "    .dataframe tbody tr th {\n",
       "        vertical-align: top;\n",
       "    }\n",
       "\n",
       "    .dataframe thead th {\n",
       "        text-align: right;\n",
       "    }\n",
       "</style>\n",
       "<table border=\"1\" class=\"dataframe\">\n",
       "  <thead>\n",
       "    <tr style=\"text-align: right;\">\n",
       "      <th></th>\n",
       "      <th>r2</th>\n",
       "      <th>maxDepth</th>\n",
       "      <th>maxBins</th>\n",
       "      <th>maxIter</th>\n",
       "    </tr>\n",
       "  </thead>\n",
       "  <tbody>\n",
       "    <tr>\n",
       "      <th>11</th>\n",
       "      <td>0.800542</td>\n",
       "      <td>5</td>\n",
       "      <td>50</td>\n",
       "      <td>80</td>\n",
       "    </tr>\n",
       "    <tr>\n",
       "      <th>10</th>\n",
       "      <td>0.799169</td>\n",
       "      <td>5</td>\n",
       "      <td>50</td>\n",
       "      <td>60</td>\n",
       "    </tr>\n",
       "    <tr>\n",
       "      <th>9</th>\n",
       "      <td>0.797853</td>\n",
       "      <td>5</td>\n",
       "      <td>50</td>\n",
       "      <td>40</td>\n",
       "    </tr>\n",
       "    <tr>\n",
       "      <th>22</th>\n",
       "      <td>0.793079</td>\n",
       "      <td>6</td>\n",
       "      <td>50</td>\n",
       "      <td>60</td>\n",
       "    </tr>\n",
       "    <tr>\n",
       "      <th>8</th>\n",
       "      <td>0.792940</td>\n",
       "      <td>5</td>\n",
       "      <td>50</td>\n",
       "      <td>20</td>\n",
       "    </tr>\n",
       "    <tr>\n",
       "      <th>21</th>\n",
       "      <td>0.792225</td>\n",
       "      <td>6</td>\n",
       "      <td>50</td>\n",
       "      <td>40</td>\n",
       "    </tr>\n",
       "    <tr>\n",
       "      <th>23</th>\n",
       "      <td>0.791614</td>\n",
       "      <td>6</td>\n",
       "      <td>50</td>\n",
       "      <td>80</td>\n",
       "    </tr>\n",
       "    <tr>\n",
       "      <th>20</th>\n",
       "      <td>0.788016</td>\n",
       "      <td>6</td>\n",
       "      <td>50</td>\n",
       "      <td>20</td>\n",
       "    </tr>\n",
       "    <tr>\n",
       "      <th>6</th>\n",
       "      <td>0.786142</td>\n",
       "      <td>5</td>\n",
       "      <td>32</td>\n",
       "      <td>60</td>\n",
       "    </tr>\n",
       "    <tr>\n",
       "      <th>7</th>\n",
       "      <td>0.785188</td>\n",
       "      <td>5</td>\n",
       "      <td>32</td>\n",
       "      <td>80</td>\n",
       "    </tr>\n",
       "    <tr>\n",
       "      <th>34</th>\n",
       "      <td>0.784770</td>\n",
       "      <td>7</td>\n",
       "      <td>50</td>\n",
       "      <td>60</td>\n",
       "    </tr>\n",
       "    <tr>\n",
       "      <th>5</th>\n",
       "      <td>0.784225</td>\n",
       "      <td>5</td>\n",
       "      <td>32</td>\n",
       "      <td>40</td>\n",
       "    </tr>\n",
       "    <tr>\n",
       "      <th>35</th>\n",
       "      <td>0.783527</td>\n",
       "      <td>7</td>\n",
       "      <td>50</td>\n",
       "      <td>80</td>\n",
       "    </tr>\n",
       "    <tr>\n",
       "      <th>33</th>\n",
       "      <td>0.783019</td>\n",
       "      <td>7</td>\n",
       "      <td>50</td>\n",
       "      <td>40</td>\n",
       "    </tr>\n",
       "    <tr>\n",
       "      <th>32</th>\n",
       "      <td>0.780976</td>\n",
       "      <td>7</td>\n",
       "      <td>50</td>\n",
       "      <td>20</td>\n",
       "    </tr>\n",
       "    <tr>\n",
       "      <th>4</th>\n",
       "      <td>0.776728</td>\n",
       "      <td>5</td>\n",
       "      <td>32</td>\n",
       "      <td>20</td>\n",
       "    </tr>\n",
       "    <tr>\n",
       "      <th>18</th>\n",
       "      <td>0.774567</td>\n",
       "      <td>6</td>\n",
       "      <td>32</td>\n",
       "      <td>60</td>\n",
       "    </tr>\n",
       "    <tr>\n",
       "      <th>17</th>\n",
       "      <td>0.774355</td>\n",
       "      <td>6</td>\n",
       "      <td>32</td>\n",
       "      <td>40</td>\n",
       "    </tr>\n",
       "    <tr>\n",
       "      <th>19</th>\n",
       "      <td>0.773756</td>\n",
       "      <td>6</td>\n",
       "      <td>32</td>\n",
       "      <td>80</td>\n",
       "    </tr>\n",
       "    <tr>\n",
       "      <th>16</th>\n",
       "      <td>0.771266</td>\n",
       "      <td>6</td>\n",
       "      <td>32</td>\n",
       "      <td>20</td>\n",
       "    </tr>\n",
       "    <tr>\n",
       "      <th>29</th>\n",
       "      <td>0.767510</td>\n",
       "      <td>7</td>\n",
       "      <td>32</td>\n",
       "      <td>40</td>\n",
       "    </tr>\n",
       "    <tr>\n",
       "      <th>28</th>\n",
       "      <td>0.765825</td>\n",
       "      <td>7</td>\n",
       "      <td>32</td>\n",
       "      <td>20</td>\n",
       "    </tr>\n",
       "    <tr>\n",
       "      <th>30</th>\n",
       "      <td>0.764946</td>\n",
       "      <td>7</td>\n",
       "      <td>32</td>\n",
       "      <td>60</td>\n",
       "    </tr>\n",
       "    <tr>\n",
       "      <th>31</th>\n",
       "      <td>0.762808</td>\n",
       "      <td>7</td>\n",
       "      <td>32</td>\n",
       "      <td>80</td>\n",
       "    </tr>\n",
       "    <tr>\n",
       "      <th>1</th>\n",
       "      <td>0.752688</td>\n",
       "      <td>5</td>\n",
       "      <td>10</td>\n",
       "      <td>40</td>\n",
       "    </tr>\n",
       "    <tr>\n",
       "      <th>2</th>\n",
       "      <td>0.751351</td>\n",
       "      <td>5</td>\n",
       "      <td>10</td>\n",
       "      <td>60</td>\n",
       "    </tr>\n",
       "    <tr>\n",
       "      <th>3</th>\n",
       "      <td>0.750323</td>\n",
       "      <td>5</td>\n",
       "      <td>10</td>\n",
       "      <td>80</td>\n",
       "    </tr>\n",
       "    <tr>\n",
       "      <th>0</th>\n",
       "      <td>0.750077</td>\n",
       "      <td>5</td>\n",
       "      <td>10</td>\n",
       "      <td>20</td>\n",
       "    </tr>\n",
       "    <tr>\n",
       "      <th>13</th>\n",
       "      <td>0.744191</td>\n",
       "      <td>6</td>\n",
       "      <td>10</td>\n",
       "      <td>40</td>\n",
       "    </tr>\n",
       "    <tr>\n",
       "      <th>14</th>\n",
       "      <td>0.742199</td>\n",
       "      <td>6</td>\n",
       "      <td>10</td>\n",
       "      <td>60</td>\n",
       "    </tr>\n",
       "    <tr>\n",
       "      <th>12</th>\n",
       "      <td>0.741804</td>\n",
       "      <td>6</td>\n",
       "      <td>10</td>\n",
       "      <td>20</td>\n",
       "    </tr>\n",
       "    <tr>\n",
       "      <th>15</th>\n",
       "      <td>0.740759</td>\n",
       "      <td>6</td>\n",
       "      <td>10</td>\n",
       "      <td>80</td>\n",
       "    </tr>\n",
       "    <tr>\n",
       "      <th>25</th>\n",
       "      <td>0.735839</td>\n",
       "      <td>7</td>\n",
       "      <td>10</td>\n",
       "      <td>40</td>\n",
       "    </tr>\n",
       "    <tr>\n",
       "      <th>24</th>\n",
       "      <td>0.735733</td>\n",
       "      <td>7</td>\n",
       "      <td>10</td>\n",
       "      <td>20</td>\n",
       "    </tr>\n",
       "    <tr>\n",
       "      <th>26</th>\n",
       "      <td>0.733732</td>\n",
       "      <td>7</td>\n",
       "      <td>10</td>\n",
       "      <td>60</td>\n",
       "    </tr>\n",
       "    <tr>\n",
       "      <th>27</th>\n",
       "      <td>0.728648</td>\n",
       "      <td>7</td>\n",
       "      <td>10</td>\n",
       "      <td>80</td>\n",
       "    </tr>\n",
       "  </tbody>\n",
       "</table>\n",
       "</div>"
      ],
      "text/plain": [
       "          r2  maxDepth  maxBins  maxIter\n",
       "11  0.800542         5       50       80\n",
       "10  0.799169         5       50       60\n",
       "9   0.797853         5       50       40\n",
       "22  0.793079         6       50       60\n",
       "8   0.792940         5       50       20\n",
       "21  0.792225         6       50       40\n",
       "23  0.791614         6       50       80\n",
       "20  0.788016         6       50       20\n",
       "6   0.786142         5       32       60\n",
       "7   0.785188         5       32       80\n",
       "34  0.784770         7       50       60\n",
       "5   0.784225         5       32       40\n",
       "35  0.783527         7       50       80\n",
       "33  0.783019         7       50       40\n",
       "32  0.780976         7       50       20\n",
       "4   0.776728         5       32       20\n",
       "18  0.774567         6       32       60\n",
       "17  0.774355         6       32       40\n",
       "19  0.773756         6       32       80\n",
       "16  0.771266         6       32       20\n",
       "29  0.767510         7       32       40\n",
       "28  0.765825         7       32       20\n",
       "30  0.764946         7       32       60\n",
       "31  0.762808         7       32       80\n",
       "1   0.752688         5       10       40\n",
       "2   0.751351         5       10       60\n",
       "3   0.750323         5       10       80\n",
       "0   0.750077         5       10       20\n",
       "13  0.744191         6       10       40\n",
       "14  0.742199         6       10       60\n",
       "12  0.741804         6       10       20\n",
       "15  0.740759         6       10       80\n",
       "25  0.735839         7       10       40\n",
       "24  0.735733         7       10       20\n",
       "26  0.733732         7       10       60\n",
       "27  0.728648         7       10       80"
      ]
     },
     "execution_count": 96,
     "metadata": {},
     "output_type": "execute_result"
    }
   ],
   "source": [
    "model=cvModel\n",
    "params = [{p.name: v for p, v in m.items()} for m in model.getEstimatorParamMaps()]\n",
    "     \n",
    "summary=pd.DataFrame.from_dict([\n",
    "  {model.getEvaluator().getMetricName(): metric, **ps} \n",
    "  for ps, metric in zip(params, model.avgMetrics)\n",
    "])\n",
    "summary=summary.sort_values(\"r2\", ascending=False)\n",
    "summary"
   ]
  },
  {
   "cell_type": "code",
   "execution_count": 97,
   "metadata": {},
   "outputs": [
    {
     "name": "stdout",
     "output_type": "stream",
     "text": [
      "R2:    0.8027593491765941\n",
      "RMSE:  110092.19000440772\n",
      "MAE:   63487.48582350465\n"
     ]
    }
   ],
   "source": [
    "BestModelParams = summary.loc[summary['r2'] == summary['r2'].max()]\n",
    "gbt =  GBTRegressor(labelCol='Precio', featuresCol='features',\n",
    "                    maxDepth=BestModelParams.maxDepth.values[0],maxBins=BestModelParams.maxBins.values[0],maxIter=BestModelParams.maxIter.values[0])\n",
    "\n",
    "gbtBestModel = gbt.fit(train_data)\n",
    "pred_df = gbtBestModel.transform(test_data)\n",
    "print (\"R2:   \",evaluator.evaluate(pred_df, {evaluator.metricName: \"r2\"}))\n",
    "print (\"RMSE: \",evaluator.evaluate(pred_df, {evaluator.metricName: \"rmse\"}))\n",
    "print (\"MAE:  \",evaluator.evaluate(pred_df, {evaluator.metricName: \"mae\"}))"
   ]
  },
  {
   "cell_type": "code",
   "execution_count": 98,
   "metadata": {},
   "outputs": [
    {
     "data": {
      "text/html": [
       "<div>\n",
       "<style scoped>\n",
       "    .dataframe tbody tr th:only-of-type {\n",
       "        vertical-align: middle;\n",
       "    }\n",
       "\n",
       "    .dataframe tbody tr th {\n",
       "        vertical-align: top;\n",
       "    }\n",
       "\n",
       "    .dataframe thead th {\n",
       "        text-align: right;\n",
       "    }\n",
       "</style>\n",
       "<table border=\"1\" class=\"dataframe\">\n",
       "  <thead>\n",
       "    <tr style=\"text-align: right;\">\n",
       "      <th></th>\n",
       "      <th>feature</th>\n",
       "      <th>importance</th>\n",
       "    </tr>\n",
       "  </thead>\n",
       "  <tbody>\n",
       "    <tr>\n",
       "      <th>0</th>\n",
       "      <td>Metros</td>\n",
       "      <td>0.333525</td>\n",
       "    </tr>\n",
       "    <tr>\n",
       "      <th>3</th>\n",
       "      <td>Años</td>\n",
       "      <td>0.227811</td>\n",
       "    </tr>\n",
       "    <tr>\n",
       "      <th>1</th>\n",
       "      <td>Dorm</td>\n",
       "      <td>0.108248</td>\n",
       "    </tr>\n",
       "    <tr>\n",
       "      <th>2</th>\n",
       "      <td>Baños</td>\n",
       "      <td>0.081286</td>\n",
       "    </tr>\n",
       "    <tr>\n",
       "      <th>5</th>\n",
       "      <td>BARRIO_num_vec_PALERMO</td>\n",
       "      <td>0.026685</td>\n",
       "    </tr>\n",
       "    <tr>\n",
       "      <th>51</th>\n",
       "      <td>COMUNA_num_vec_14</td>\n",
       "      <td>0.020326</td>\n",
       "    </tr>\n",
       "    <tr>\n",
       "      <th>11</th>\n",
       "      <td>BARRIO_num_vec_PUERTO MADERO</td>\n",
       "      <td>0.018484</td>\n",
       "    </tr>\n",
       "    <tr>\n",
       "      <th>53</th>\n",
       "      <td>COMUNA_num_vec_2</td>\n",
       "      <td>0.013386</td>\n",
       "    </tr>\n",
       "    <tr>\n",
       "      <th>4</th>\n",
       "      <td>BARRIO_num_vec_BELGRANO</td>\n",
       "      <td>0.012855</td>\n",
       "    </tr>\n",
       "    <tr>\n",
       "      <th>7</th>\n",
       "      <td>BARRIO_num_vec_RECOLETA</td>\n",
       "      <td>0.010878</td>\n",
       "    </tr>\n",
       "  </tbody>\n",
       "</table>\n",
       "</div>"
      ],
      "text/plain": [
       "                         feature  importance\n",
       "0                         Metros    0.333525\n",
       "3                           Años    0.227811\n",
       "1                           Dorm    0.108248\n",
       "2                          Baños    0.081286\n",
       "5         BARRIO_num_vec_PALERMO    0.026685\n",
       "51             COMUNA_num_vec_14    0.020326\n",
       "11  BARRIO_num_vec_PUERTO MADERO    0.018484\n",
       "53              COMUNA_num_vec_2    0.013386\n",
       "4        BARRIO_num_vec_BELGRANO    0.012855\n",
       "7        BARRIO_num_vec_RECOLETA    0.010878"
      ]
     },
     "execution_count": 98,
     "metadata": {},
     "output_type": "execute_result"
    }
   ],
   "source": [
    "from itertools import chain\n",
    "attrs = sorted(\n",
    "    (attr['idx'], attr['name'])\n",
    "    for attr in (\n",
    "        chain(*pred_df.schema['features'].metadata['ml_attr']['attrs'].values())\n",
    "    )\n",
    ")\n",
    "feat_import = [(name, gbtBestModel.featureImportances[idx]) for idx, name in attrs if gbtBestModel.featureImportances[idx]]\n",
    "feat_import = pd.DataFrame(feat_import, columns=['feature', 'importance']).sort_values(by='importance', ascending=False)\n",
    "feat_import.head(10)"
   ]
  },
  {
   "cell_type": "code",
   "execution_count": 99,
   "metadata": {},
   "outputs": [
    {
     "data": {
      "text/plain": [
       "[Text(0, 0, 'Metros'),\n",
       " Text(1, 0, 'Años'),\n",
       " Text(2, 0, 'Dorm'),\n",
       " Text(3, 0, 'Baños'),\n",
       " Text(4, 0, 'BARRIO_num_vec_PALERMO'),\n",
       " Text(5, 0, 'COMUNA_num_vec_14'),\n",
       " Text(6, 0, 'BARRIO_num_vec_PUERTO MADERO'),\n",
       " Text(7, 0, 'COMUNA_num_vec_2'),\n",
       " Text(8, 0, 'BARRIO_num_vec_BELGRANO'),\n",
       " Text(9, 0, 'BARRIO_num_vec_RECOLETA')]"
      ]
     },
     "execution_count": 99,
     "metadata": {},
     "output_type": "execute_result"
    },
    {
     "data": {
      "image/png": "[encoded data removed]",
      "text/plain": [
       "<Figure size 432x288 with 1 Axes>"
      ]
     },
     "metadata": {
      "needs_background": "light"
     },
     "output_type": "display_data"
    }
   ],
   "source": [
    "ax = feat_import[:10].plot(kind='bar')\n",
    "ax.set_xticklabels(feat_import[:10]['feature'].tolist())"
   ]
  },
  {
   "cell_type": "code",
   "execution_count": 100,
   "metadata": {},
   "outputs": [],
   "source": [
    "spark.stop()"
   ]
  }
 ],
 "metadata": {
  "kernelspec": {
   "display_name": "Python 3 (ipykernel)",
   "language": "python",
   "name": "python3"
  },
  "language_info": {
   "codemirror_mode": {
    "name": "ipython",
    "version": 3
   },
   "file_extension": ".py",
   "mimetype": "text/x-python",
   "name": "python",
   "nbconvert_exporter": "python",
   "pygments_lexer": "ipython3",
   "version": "3.7.3"
  }
 },
 "nbformat": 4,
 "nbformat_minor": 2
}
