{
 "cells": [
  {
   "cell_type": "markdown",
   "metadata": {},
   "source": [
    "# Scraping\n",
    "#### Se realiza la carga de datos desde el sitio argenprop.com "
   ]
  },
  {
   "cell_type": "markdown",
   "metadata": {},
   "source": [
    "### Intalación de las librerías necesarias"
   ]
  },
  {
   "cell_type": "code",
   "execution_count": 1,
   "metadata": {},
   "outputs": [
    {
     "name": "stdout",
     "output_type": "stream",
     "text": [
      "Collecting tqdm\n",
      "\u001b[?25l  Downloading https://files.pythonhosted.org/packages/63/f3/b7a1b8e40fd1bd049a34566eb353527bb9b8e9b98f8b6cf803bb64d8ce95/tqdm-4.62.3-py2.py3-none-any.whl (76kB)\n",
      "\u001b[K    100% |████████████████████████████████| 81kB 1.2MB/s ta 0:00:01\n",
      "\u001b[?25hInstalling collected packages: tqdm\n",
      "Successfully installed tqdm-4.62.3\n",
      "Note: you may need to restart the kernel to use updated packages.\n"
     ]
    }
   ],
   "source": [
    "pip install tqdm"
   ]
  },
  {
   "cell_type": "code",
   "execution_count": 2,
   "metadata": {},
   "outputs": [
    {
     "name": "stdout",
     "output_type": "stream",
     "text": [
      "Collecting bs4\n",
      "  Downloading https://files.pythonhosted.org/packages/10/ed/7e8b97591f6f456174139ec089c769f89a94a1a4025fe967691de971f314/bs4-0.0.1.tar.gz\n",
      "Collecting beautifulsoup4 (from bs4)\n",
      "\u001b[?25l  Downloading https://files.pythonhosted.org/packages/69/bf/f0f194d3379d3f3347478bd267f754fc68c11cbf2fe302a6ab69447b1417/beautifulsoup4-4.10.0-py3-none-any.whl (97kB)\n",
      "\u001b[K    100% |████████████████████████████████| 102kB 781kB/s a 0:00:01\n",
      "\u001b[?25hCollecting soupsieve>1.2 (from beautifulsoup4->bs4)\n",
      "  Downloading https://files.pythonhosted.org/packages/5d/bc/df4c752a7488bb76e6b1e2dfa223455bb09616d87f8e569f9fb8c9b4ae29/soupsieve-2.3-py3-none-any.whl\n",
      "Building wheels for collected packages: bs4\n",
      "  Running setup.py bdist_wheel for bs4 ... \u001b[?25ldone\n",
      "\u001b[?25h  Stored in directory: /root/.cache/pip/wheels/a0/b0/b2/4f80b9456b87abedbc0bf2d52235414c3467d8889be38dd472\n",
      "Successfully built bs4\n",
      "Installing collected packages: soupsieve, beautifulsoup4, bs4\n",
      "Successfully installed beautifulsoup4-4.10.0 bs4-0.0.1 soupsieve-2.3\n",
      "Note: you may need to restart the kernel to use updated packages.\n"
     ]
    }
   ],
   "source": [
    "pip install bs4"
   ]
  },
  {
   "cell_type": "code",
   "execution_count": 3,
   "metadata": {},
   "outputs": [
    {
     "name": "stdout",
     "output_type": "stream",
     "text": [
      "Collecting lxml\n",
      "\u001b[?25l  Downloading https://files.pythonhosted.org/packages/97/d4/156d939ca782193b4eb46e53b1df5f003a9fe21d0d5233ce014c7e957ae1/lxml-4.6.4-cp37-cp37m-manylinux_2_5_x86_64.manylinux1_x86_64.whl (5.5MB)\n",
      "\u001b[K    100% |████████████████████████████████| 5.5MB 292kB/s ta 0:00:011\n",
      "\u001b[?25hInstalling collected packages: lxml\n",
      "Successfully installed lxml-4.6.4\n",
      "Note: you may need to restart the kernel to use updated packages.\n"
     ]
    }
   ],
   "source": [
    "pip install lxml"
   ]
  },
  {
   "cell_type": "markdown",
   "metadata": {},
   "source": [
    "### Importamos las librerías y creamos el dataset de Pandas"
   ]
  },
  {
   "cell_type": "code",
   "execution_count": 4,
   "metadata": {},
   "outputs": [],
   "source": [
    "from bs4 import BeautifulSoup\n",
    "import requests\n",
    "import pandas as pd\n",
    "from tqdm.auto import tqdm\n",
    "import os\n",
    "\n",
    "df=pd.DataFrame(columns=['Precio','Ubicacion','Barrio','Metros','Dorm','Baños','Años'])"
   ]
  },
  {
   "cell_type": "markdown",
   "metadata": {},
   "source": [
    "### Obtenemos el número total de páginas de publicaciones"
   ]
  },
  {
   "cell_type": "code",
   "execution_count": 5,
   "metadata": {},
   "outputs": [
    {
     "name": "stdout",
     "output_type": "stream",
     "text": [
      "Total de páginas: 858\n"
     ]
    }
   ],
   "source": [
    "payload = {'api_key': 'e2cfbc1810d6a0321cfc04c45c315c05', 'url': 'https://www.argenprop.com/departamento-venta-region-capital-federal-1-o-más-cocheras-pagina-2'}\n",
    "r = requests.get('http://api.scraperapi.com', params=payload)\n",
    "soup = BeautifulSoup(r.text, 'lxml')\n",
    "paginas = soup.find_all('li', class_=\"pagination__page\")\n",
    "paginas = int(paginas[-2].text)\n",
    "print(\"Total de páginas:\",paginas)"
   ]
  },
  {
   "cell_type": "markdown",
   "metadata": {},
   "source": [
    "### Recolectamos la información de cada página, la parseamos y la incuimos en el dataset"
   ]
  },
  {
   "cell_type": "code",
   "execution_count": 7,
   "metadata": {},
   "outputs": [
    {
     "data": {
      "application/vnd.jupyter.widget-view+json": {
       "model_id": "aa7045a428754104bedfca2cee79ade7",
       "version_major": 2,
       "version_minor": 0
      },
      "text/plain": [
       "  0%|          | 0/8 [00:00<?, ?it/s]"
      ]
     },
     "metadata": {},
     "output_type": "display_data"
    }
   ],
   "source": [
    "\n",
    "for j in tqdm(range(2,10)): # PARA MENOR TIEMPO reemplazar paginas por otro valor así no se trae la totalidad de páginas \n",
    "    payload = {'api_key': 'e2cfbc1810d6a0321cfc04c45c315c05', 'url': 'https://www.argenprop.com/departamento-venta-region-capital-federal-1-o-más-cocheras-pagina-'+str(j)}\n",
    "    r = requests.get('http://api.scraperapi.com', params=payload)\n",
    "    \n",
    "    soup = BeautifulSoup(r.text, 'lxml')\n",
    "\n",
    "    precio = soup.find_all('p',class_=\"card__price\")\n",
    "    caract = soup.find_all('ul',class_=\"card__main-features\")\n",
    "    direccion = soup.find_all('p',class_=\"card__title--primary\")\n",
    "\n",
    "    try:\n",
    "        ind = df.index[-1]+1\n",
    "    except: \n",
    "        ind = 0\n",
    "\n",
    "    for i in range(len(precio)):\n",
    "\n",
    "        precios = precio[i].text.replace(\"USD \",\"\").replace(\"$ \",\"\").split()\n",
    "        caracts = caract[i].text.split()\n",
    "        direcciones = direccion[i].text.replace(\"Departamento en Venta en \",\"\").split(\", \")\n",
    "        \n",
    "        df.loc[ind+i,'Ubicacion'] = direcciones[0]\n",
    "        df.loc[ind+i,'Barrio'] = direcciones[1]\n",
    "        \n",
    "        if precios[0] == 'Consultar' :\n",
    "            df.loc[ind+i,'Precio'] = 999\n",
    "        else:\n",
    "            df.loc[ind+i,'Precio'] = int(precios[0].replace('.',''))\n",
    "\n",
    "        if 'm²' in caracts:\n",
    "            df.loc[ind+i,'Metros'] = float(caracts[caracts.index('m²')-1].replace(',','.'))\n",
    "\n",
    "        if 'baño' in caracts:\n",
    "            df.loc[ind+i,'Baños'] = int(caracts[caracts.index('baño')-1])\n",
    "\n",
    "        if 'baños' in caracts:\n",
    "            df.loc[ind+i,'Baños'] = int(caracts[caracts.index('baños')-1])\n",
    "\n",
    "        if 'Monoam.' in caracts:\n",
    "            df.loc[ind+i,'Dorm'] = 0\n",
    "    \n",
    "        if 'dorm.' in caracts:\n",
    "            df.loc[ind+i,'Dorm'] = int(caracts[caracts.index('dorm.')-1])\n",
    "\n",
    "        if 'años' in caracts:\n",
    "            df.loc[ind+i,'Años'] = int(caracts[caracts.index('años')-1])\n",
    "\n",
    "        if 'Estrenar' in caracts:\n",
    "            df.loc[ind+i,'Años'] = 0\n",
    "        "
   ]
  },
  {
   "cell_type": "code",
   "execution_count": 8,
   "metadata": {},
   "outputs": [],
   "source": [
    "import findspark\n",
    "\n",
    "findspark.add_jars('/app/postgresql-42.1.4.jar')\n",
    "findspark.init()"
   ]
  },
  {
   "cell_type": "code",
   "execution_count": 9,
   "metadata": {},
   "outputs": [],
   "source": [
    "from pyspark.sql import SparkSession\n",
    "spark = (\n",
    "    SparkSession.builder\n",
    "    .appName(\"pyspark-postgres\")\n",
    "    .config(\"spark.driver.memory\", \"512m\")\n",
    "    .config(\"spark.driver.cores\", \"1\")\n",
    "    .config(\"spark.executor.memory\", \"512m\")\n",
    "    .config(\"spark.executor.cores\", \"1\")\n",
    "    .config(\"spark.sql.shuffle.partitions\", \"2\")\n",
    "    .getOrCreate()\n",
    ")"
   ]
  },
  {
   "cell_type": "markdown",
   "metadata": {},
   "source": [
    "### Convertimos los valores faltantes en '999' y luego transformamos el Dataframe de Pandas en Spark"
   ]
  },
  {
   "cell_type": "code",
   "execution_count": 10,
   "metadata": {},
   "outputs": [],
   "source": [
    "df=df.fillna(999)\n",
    "df = spark.createDataFrame(df)"
   ]
  },
  {
   "cell_type": "markdown",
   "metadata": {},
   "source": [
    "### Guardamos en Postgres"
   ]
  },
  {
   "cell_type": "code",
   "execution_count": 11,
   "metadata": {},
   "outputs": [],
   "source": [
    "df \\\n",
    "    .write \\\n",
    "    .format(\"jdbc\") \\\n",
    "    .option(\"url\", \"jdbc:postgresql://postgres/workshop\") \\\n",
    "    .option(\"dbtable\", \"workshop.viviendas\") \\\n",
    "    .option(\"user\", \"workshop\") \\\n",
    "    .option(\"password\", \"w0rkzh0p\") \\\n",
    "    .option(\"driver\", \"org.postgresql.Driver\") \\\n",
    "    .mode('overwrite') \\\n",
    "    .save()"
   ]
  },
  {
   "cell_type": "code",
   "execution_count": 12,
   "metadata": {},
   "outputs": [],
   "source": [
    "df_pos = spark.read \\\n",
    "    .format(\"jdbc\") \\\n",
    "    .option(\"url\", \"jdbc:postgresql://postgres/workshop\") \\\n",
    "    .option(\"dbtable\", \"workshop.viviendas\") \\\n",
    "    .option(\"user\", \"workshop\") \\\n",
    "    .option(\"password\", \"w0rkzh0p\") \\\n",
    "    .option(\"driver\", \"org.postgresql.Driver\") \\\n",
    "    .load()"
   ]
  },
  {
   "cell_type": "markdown",
   "metadata": {},
   "source": [
    "### Corroboramos que coincidan la cantidad de filas y columnas y mostramos las primeras 100 filas del Dataframe importado de postgres"
   ]
  },
  {
   "cell_type": "code",
   "execution_count": 13,
   "metadata": {},
   "outputs": [
    {
     "name": "stdout",
     "output_type": "stream",
     "text": [
      "(120, 7)\n",
      "(120, 7)\n",
      "+-------+-----------------+---------------+------+----+-----+----+\n",
      "| Precio|        Ubicacion|         Barrio|Metros|Dorm|Baños|Años|\n",
      "+-------+-----------------+---------------+------+----+-----+----+\n",
      "| 230000|         Belgrano|Capital Federal|  95.0|   3|    3|  45|\n",
      "| 145000|           Flores|Capital Federal|  50.0|   1|    1|   2|\n",
      "|1350000|    Palermo Chico|        Palermo| 228.0|   5|    5|  40|\n",
      "| 300000|     Villa Devoto|Capital Federal| 103.0|   3|    3|  35|\n",
      "| 120000|         Belgrano|Capital Federal|  70.0|   2|    1|  48|\n",
      "| 162000|       Belgrano R|       Belgrano|  67.0|   2|    1|  35|\n",
      "| 440000|        Caballito|Capital Federal| 148.0|   3|    2|  31|\n",
      "|  90000|      San Nicolás|         Centro|  33.0|   0|    1| 999|\n",
      "| 172000|           Retiro|         Centro|  75.0|   2|    2| 999|\n",
      "|1500000|    Puerto Madero|         Centro| 230.0|   3|    4|  10|\n",
      "| 155000|    Villa Urquiza|Capital Federal|  54.0|   2|    2|   0|\n",
      "| 197000|            Nuñez|Capital Federal|  58.0|   2|    1|  22|\n",
      "| 550000|           Retiro|         Centro| 168.0|   2|    3|  60|\n",
      "| 123000|          Almagro|Capital Federal|  43.0|   1|  999|   0|\n",
      "| 295000|        Caballito|Capital Federal|  75.0|   3|    2|  25|\n",
      "| 269000|         Belgrano|Capital Federal| 140.0|   3|    2|  50|\n",
      "| 118000|            Nuñez|Capital Federal|  40.0|   1|    1|   5|\n",
      "| 223000|            Nuñez|Capital Federal|  72.0|   2|    2|   0|\n",
      "| 340000|            Nuñez|Capital Federal| 107.0|   3|    3|  43|\n",
      "| 160000|        Urquiza R|  Villa Urquiza|  52.0|   2|    1|  45|\n",
      "| 233990|     Villa Crespo|Capital Federal|  73.0|   2|    2|   0|\n",
      "| 197000|          Palermo|Capital Federal|  77.0|   2|    2|  41|\n",
      "| 395000|     Villa Devoto|Capital Federal| 105.0|   3|    3|   3|\n",
      "| 118000|        Balvanera|Capital Federal|  52.0|   2|    1|  20|\n",
      "| 412000|        Caballito|Capital Federal|145.36|   3|    3| 999|\n",
      "| 187000|          Palermo|Capital Federal|  72.0|   3|    1|  50|\n",
      "| 220000|         Recoleta|   Barrio Norte|  76.0|   2|    2|  50|\n",
      "|  70900|        Caballito|Capital Federal| 999.0| 999|    1|   0|\n",
      "| 340000|     Villa Devoto|Capital Federal| 999.0|   2|    2|   5|\n",
      "| 270000|        Caballito|Capital Federal|  86.0|   2|    2|  40|\n",
      "|1070000|         Belgrano|Capital Federal| 195.0|   3|    4| 999|\n",
      "|  75400|        Balvanera|Capital Federal|  34.0|   0|    1|   0|\n",
      "| 234900|          Palermo|Capital Federal|  80.0|   3|    1|  35|\n",
      "| 219000| Villa del Parque|Capital Federal|  71.0|   2|    2|   0|\n",
      "| 620000|         Saavedra|Capital Federal| 167.0|   3|    4|   9|\n",
      "| 190000|         Saavedra|Capital Federal|  85.0|   2|    1|   5|\n",
      "| 298000|     Barrio Norte|Capital Federal| 131.0|   3|    3|  41|\n",
      "| 325000|     Barrio Norte|Capital Federal| 123.0|   3|    1|  35|\n",
      "| 330000|         Recoleta|   Barrio Norte| 132.0|   3|    2|  40|\n",
      "| 199900|        Caballito|Capital Federal|  70.0|   2|    1|  25|\n",
      "| 425000|    Palermo Chico|        Palermo| 131.0|   3|    2|  41|\n",
      "| 220000|        Balvanera|Capital Federal| 147.0|   3|    2|  90|\n",
      "| 179000|    Villa Urquiza|Capital Federal|  68.0|   2|    1|  23|\n",
      "| 222000|    Villa Urquiza|Capital Federal|  65.0|   2|    2| 999|\n",
      "| 460000|     Barrio Norte|Capital Federal| 180.0|   3|    2| 100|\n",
      "| 185000|    Villa Urquiza|Capital Federal|  67.0|   2|    2|   0|\n",
      "| 125000|         Congreso|Capital Federal|  63.0|   2|    1|  35|\n",
      "|1000000|    Palermo Chico|        Palermo| 215.0|   3|  999|   0|\n",
      "| 414900|          Palermo|Capital Federal|  92.0|   2|    2|   0|\n",
      "| 190000|         Belgrano|Capital Federal|  65.0|   2|    2|   7|\n",
      "| 580000|         Belgrano|Capital Federal| 174.0|   3|    4|  25|\n",
      "| 425000|      Las Cañitas|       Belgrano| 152.0|   3|    3|  25|\n",
      "| 179900|       Colegiales|Capital Federal|  67.0|   3|    2|  45|\n",
      "| 540000|         Belgrano|Capital Federal| 136.0|   3|    2|  40|\n",
      "| 229000| Villa del Parque|Capital Federal|  65.0|   2|    1|  18|\n",
      "| 114000| Parque Chacabuco|Capital Federal|  44.0|   1|    1|  41|\n",
      "| 300000|         Recoleta|   Barrio Norte|  74.0|   2|    1|  38|\n",
      "| 310000|         Belgrano|Capital Federal|  69.0|   2|    2| 999|\n",
      "| 995000|    Palermo Chico|        Palermo| 265.0|   4|    3|  50|\n",
      "|  99000|Parque Avellaneda|       Floresta|  45.0|   1|    1|   9|\n",
      "| 600000|         Recoleta|   Barrio Norte| 275.0|   3|    4| 999|\n",
      "| 310000|         Botanico|        Palermo|  70.0|   2|    3| 999|\n",
      "| 245000|        Caballito|Capital Federal|  68.0|   2|    2|  11|\n",
      "| 580000|         Belgrano|Capital Federal| 289.0|   4|    4|  40|\n",
      "| 490000|         Recoleta|   Barrio Norte| 161.0|   4|    4|  60|\n",
      "|  99000|         Belgrano|Capital Federal|  33.0|   0|    1| 999|\n",
      "| 245000|         Belgrano|Capital Federal|  83.0|   2|    2|  41|\n",
      "| 426000|      Las Cañitas|       Belgrano| 128.0|   3|    3|   0|\n",
      "|  83000|         Recoleta|   Barrio Norte| 999.0|   1|    1| 999|\n",
      "| 142000| Villa del Parque|Capital Federal|  55.0|   2|    1|  19|\n",
      "| 190000|            Nuñez|Capital Federal|  85.0|   2|    1|   5|\n",
      "| 149000|            Nuñez|Capital Federal|  80.0|   2|    1|  45|\n",
      "| 129000| Villa Pueyrredon|Capital Federal|  38.0|   1|    1|   9|\n",
      "| 110000|    Palermo Viejo|        Palermo|  36.0|   0|    1|   2|\n",
      "| 115000|     Palermo Soho|        Palermo|  34.0|   0|  999|   7|\n",
      "| 155000|     Villa Crespo|Capital Federal|  70.0|   2|    2|  18|\n",
      "| 320000|         Belgrano|Capital Federal| 123.0|   3|    3|  27|\n",
      "| 670000|   Belgrano Chico|       Belgrano| 109.0|   3|    3|  10|\n",
      "| 399000|         Belgrano|Capital Federal| 126.0|   3|    4|  22|\n",
      "| 218000|         Belgrano|Capital Federal|  94.0|   3|    1|   0|\n",
      "| 300000|         Botanico|        Palermo| 114.0|   2|    2|  50|\n",
      "| 160000|    Villa Urquiza|Capital Federal|  60.0|   1|    2| 999|\n",
      "| 580000|         Belgrano|Capital Federal| 165.0|   3|    3|  60|\n",
      "|    999|            Nuñez|Capital Federal| 999.0|   1|    2|  20|\n",
      "| 260000|        Caballito|Capital Federal|  71.0|   2|    2|  13|\n",
      "| 328000|      Las Cañitas|       Belgrano|  81.0|   2|    2|   0|\n",
      "| 105000|    Villa Urquiza|Capital Federal|  38.0|   1|    1|  35|\n",
      "| 340000|         Belgrano|Capital Federal| 128.0|   3|    3| 999|\n",
      "| 525000|   Belgrano Chico|       Belgrano| 101.0|   2|    3|   7|\n",
      "| 479000|            Nuñez|Capital Federal| 118.0|   3|    3| 999|\n",
      "| 340000|          Palermo|Capital Federal|  85.0|   2|    3|   8|\n",
      "| 270000|    Caballito Sur|      Caballito|  92.0|   3|    2|  14|\n",
      "| 185000|   Belgrano Chico|       Belgrano|  47.0|   1|    1|   0|\n",
      "| 304000|      Las Cañitas|       Belgrano| 90.62|   3|    3|  50|\n",
      "| 370000| Parque Rivadavia|      Caballito| 165.0|   3|    2|  50|\n",
      "|    999|        Caballito|Capital Federal|  90.0|   3|    1| 999|\n",
      "| 185000|         Recoleta|   Barrio Norte|  90.0|   2|    2|  24|\n",
      "| 190000| Plaza San Martín|   Barrio Norte|  95.0|   3|    2|  30|\n",
      "| 580000|          Palermo|Capital Federal| 130.0|   3|    3|  25|\n",
      "| 330000|            River|          Nuñez|  81.0|   2|    2|  10|\n",
      "+-------+-----------------+---------------+------+----+-----+----+\n",
      "only showing top 100 rows\n",
      "\n"
     ]
    }
   ],
   "source": [
    "print((df.count(), len(df.columns)))\n",
    "print((df_pos.count(), len(df_pos.columns)))\n",
    "\n",
    "df_pos.show(100)"
   ]
  },
  {
   "cell_type": "code",
   "execution_count": null,
   "metadata": {},
   "outputs": [],
   "source": [
    "spark.stop()"
   ]
  }
 ],
 "metadata": {
  "kernelspec": {
   "display_name": "Python 3",
   "language": "python",
   "name": "python3"
  },
  "language_info": {
   "codemirror_mode": {
    "name": "ipython",
    "version": 3
   },
   "file_extension": ".py",
   "mimetype": "text/x-python",
   "name": "python",
   "nbconvert_exporter": "python",
   "pygments_lexer": "ipython3",
   "version": "3.7.3"
  }
 },
 "nbformat": 4,
 "nbformat_minor": 4
}
