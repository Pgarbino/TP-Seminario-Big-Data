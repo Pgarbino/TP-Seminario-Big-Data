{
 "cells": [
  {
   "cell_type": "markdown",
   "metadata": {},
   "source": [
    "# Scraping\n",
    "#### Se realiza la carga de datos desde el sitio argenprop.com "
   ]
  },
  {
   "cell_type": "markdown",
   "metadata": {},
   "source": [
    "### Intalación de las librerías necesarias"
   ]
  },
  {
   "cell_type": "code",
   "execution_count": 169,
   "metadata": {},
   "outputs": [
    {
     "name": "stdout",
     "output_type": "stream",
     "text": [
      "Requirement already satisfied: tqdm in /usr/local/lib/python3.7/dist-packages (4.62.3)\n",
      "Note: you may need to restart the kernel to use updated packages.\n"
     ]
    }
   ],
   "source": [
    "pip install tqdm"
   ]
  },
  {
   "cell_type": "code",
   "execution_count": 170,
   "metadata": {},
   "outputs": [
    {
     "name": "stdout",
     "output_type": "stream",
     "text": [
      "Requirement already satisfied: bs4 in /usr/local/lib/python3.7/dist-packages (0.0.1)\n",
      "Requirement already satisfied: beautifulsoup4 in /usr/local/lib/python3.7/dist-packages (from bs4) (4.10.0)\n",
      "Requirement already satisfied: soupsieve>1.2 in /usr/local/lib/python3.7/dist-packages (from beautifulsoup4->bs4) (2.2.1)\n",
      "Note: you may need to restart the kernel to use updated packages.\n"
     ]
    }
   ],
   "source": [
    "pip install bs4"
   ]
  },
  {
   "cell_type": "code",
   "execution_count": 171,
   "metadata": {},
   "outputs": [
    {
     "name": "stdout",
     "output_type": "stream",
     "text": [
      "Requirement already satisfied: lxml in /usr/local/lib/python3.7/dist-packages (4.6.3)\n",
      "Note: you may need to restart the kernel to use updated packages.\n"
     ]
    }
   ],
   "source": [
    "pip install lxml"
   ]
  },
  {
   "cell_type": "markdown",
   "metadata": {},
   "source": [
    "### Importamos las librerías y creamos el dataset de Pandas"
   ]
  },
  {
   "cell_type": "code",
   "execution_count": 172,
   "metadata": {},
   "outputs": [],
   "source": [
    "from bs4 import BeautifulSoup\n",
    "import requests\n",
    "import pandas as pd\n",
    "from tqdm.auto import tqdm\n",
    "import os\n",
    "\n",
    "df=pd.DataFrame(columns=['Precio','Ubicacion','Barrio','Metros','Dorm','Baños','Años'])"
   ]
  },
  {
   "cell_type": "markdown",
   "metadata": {},
   "source": [
    "### Obtenemos el número total de páginas de publicaciones"
   ]
  },
  {
   "cell_type": "code",
   "execution_count": 173,
   "metadata": {},
   "outputs": [
    {
     "name": "stdout",
     "output_type": "stream",
     "text": [
      "Total de páginas: 855\n"
     ]
    }
   ],
   "source": [
    "url = \"https://www.argenprop.com/departamento-venta-region-capital-federal-1-o-más-cocheras-pagina-2\"\n",
    "headers = {'User-Agent':'Mozilla/5.0 (Macintosh; Intel Mac OS X 10_11_2) AppleWebKit/601.3.9     (KHTML, like Gecko) Version/9.0.2 Safari/601.3.9'}\n",
    "r = requests.get(url,headers=headers)\n",
    "soup = BeautifulSoup(r.text, 'lxml')\n",
    "paginas = soup.find_all('li', class_=\"pagination__page\")\n",
    "paginas = int(paginas[-2].text)\n",
    "print(\"Total de páginas:\",paginas)"
   ]
  },
  {
   "cell_type": "markdown",
   "metadata": {},
   "source": [
    "### Recolectamos la información de cada página, la parseamos y la incuimos en el dataset"
   ]
  },
  {
   "cell_type": "code",
   "execution_count": 174,
   "metadata": {},
   "outputs": [
    {
     "data": {
      "application/vnd.jupyter.widget-view+json": {
       "model_id": "4914bc8e6e484c5e9e7679c166ea39ab",
       "version_major": 2,
       "version_minor": 0
      },
      "text/plain": [
       "  0%|          | 0/18 [00:00<?, ?it/s]"
      ]
     },
     "metadata": {},
     "output_type": "display_data"
    }
   ],
   "source": [
    "\n",
    "for j in tqdm(range(2,paginas)): # PARA MENOR TIEMPO reemplazar paginas por otro valor así no se trae la totalidad de páginas \n",
    "    url = \"https://www.argenprop.com/departamento-venta-region-capital-federal-1-o-más-cocheras-pagina-\"+str(j)\n",
    "    headers = {'User-Agent':'Mozilla/5.0 (Macintosh; Intel Mac OS X 10_11_2) AppleWebKit/601.3.9     (KHTML, like Gecko) Version/9.0.2 Safari/601.3.9'}\n",
    "    r = requests.get(url,headers=headers)\n",
    "    soup = BeautifulSoup(r.text, 'lxml')\n",
    "\n",
    "    precio = soup.find_all('p',class_=\"card__price\")\n",
    "    caract = soup.find_all('ul',class_=\"card__main-features\")\n",
    "    direccion = soup.find_all('p',class_=\"card__title--primary\")\n",
    "\n",
    "    try:\n",
    "     ind = df.index[-1]+1\n",
    "    except: \n",
    "        ind = 0\n",
    "\n",
    "    for i in range(len(precio)):\n",
    "\n",
    "        precios = precio[i].text.replace(\"USD \",\"\").split()\n",
    "        caracts = caract[i].text.split()\n",
    "        direcciones = direccion[i].text.replace(\"Departamento en Venta en \",\"\").split(\", \")\n",
    "        \n",
    "        df.loc[ind+i,'Ubicacion'] = direcciones[0]\n",
    "        df.loc[ind+i,'Barrio'] = direcciones[1]\n",
    "        \n",
    "        if precios[0] == 'Consultar' :\n",
    "            df.loc[ind+i,'Precio'] = 999\n",
    "        else:\n",
    "            df.loc[ind+i,'Precio'] = int(precios[0].replace('.',''))\n",
    "\n",
    "        if 'm²' in caracts:\n",
    "            df.loc[ind+i,'Metros'] = float(caracts[caracts.index('m²')-1].replace(',','.'))\n",
    "\n",
    "        if 'baño' in caracts:\n",
    "            df.loc[ind+i,'Baños'] = int(caracts[caracts.index('baño')-1])\n",
    "\n",
    "        if 'baños' in caracts:\n",
    "            df.loc[ind+i,'Baños'] = int(caracts[caracts.index('baños')-1])\n",
    "\n",
    "        if 'Monoam.' in caracts:\n",
    "            df.loc[ind+i,'Dorm'] = 0\n",
    "    \n",
    "        if 'dorm.' in caracts:\n",
    "            df.loc[ind+i,'Dorm'] = int(caracts[caracts.index('dorm.')-1])\n",
    "\n",
    "        if 'años' in caracts:\n",
    "            df.loc[ind+i,'Años'] = int(caracts[caracts.index('años')-1])\n",
    "\n",
    "        if 'Estrenar' in caracts:\n",
    "            df.loc[ind+i,'Años'] = 0\n",
    "        "
   ]
  },
  {
   "cell_type": "markdown",
   "metadata": {},
   "source": [
    "### Convertimos los valores faltantes en '999' y luego transformamos el Dataframe de Pandas en Spark"
   ]
  },
  {
   "cell_type": "code",
   "execution_count": 175,
   "metadata": {},
   "outputs": [],
   "source": [
    "df=df.fillna(999)\n",
    "df = spark.createDataFrame(df)"
   ]
  },
  {
   "cell_type": "markdown",
   "metadata": {},
   "source": [
    "### Guardamos en Postgres"
   ]
  },
  {
   "cell_type": "code",
   "execution_count": 176,
   "metadata": {},
   "outputs": [],
   "source": [
    "import findspark\n",
    "\n",
    "findspark.add_jars('/app/postgresql-42.1.4.jar')\n",
    "findspark.init()"
   ]
  },
  {
   "cell_type": "code",
   "execution_count": 177,
   "metadata": {},
   "outputs": [],
   "source": [
    "from pyspark.sql import SparkSession\n",
    "spark = (\n",
    "    SparkSession.builder\n",
    "    .appName(\"pyspark-postgres\")\n",
    "    .config(\"spark.driver.memory\", \"512m\")\n",
    "    .config(\"spark.driver.cores\", \"1\")\n",
    "    .config(\"spark.executor.memory\", \"512m\")\n",
    "    .config(\"spark.executor.cores\", \"1\")\n",
    "    .config(\"spark.sql.shuffle.partitions\", \"2\")\n",
    "    .getOrCreate()\n",
    ")"
   ]
  },
  {
   "cell_type": "code",
   "execution_count": 178,
   "metadata": {},
   "outputs": [],
   "source": [
    "df \\\n",
    "    .write \\\n",
    "    .format(\"jdbc\") \\\n",
    "    .option(\"url\", \"jdbc:postgresql://postgres/workshop\") \\\n",
    "    .option(\"dbtable\", \"workshop.viviendas\") \\\n",
    "    .option(\"user\", \"workshop\") \\\n",
    "    .option(\"password\", \"w0rkzh0p\") \\\n",
    "    .option(\"driver\", \"org.postgresql.Driver\") \\\n",
    "    .mode('overwrite') \\\n",
    "    .save()"
   ]
  },
  {
   "cell_type": "code",
   "execution_count": 179,
   "metadata": {},
   "outputs": [],
   "source": [
    "df_pos = spark.read \\\n",
    "    .format(\"jdbc\") \\\n",
    "    .option(\"url\", \"jdbc:postgresql://postgres/workshop\") \\\n",
    "    .option(\"dbtable\", \"workshop.viviendas\") \\\n",
    "    .option(\"user\", \"workshop\") \\\n",
    "    .option(\"password\", \"w0rkzh0p\") \\\n",
    "    .option(\"driver\", \"org.postgresql.Driver\") \\\n",
    "    .load()"
   ]
  },
  {
   "cell_type": "markdown",
   "metadata": {},
   "source": [
    "### Corroboramos que coincidan la cantidad de filas y columnas y mostramos las primeras 100 filas del Dataframe importado de postgres"
   ]
  },
  {
   "cell_type": "code",
   "execution_count": 180,
   "metadata": {},
   "outputs": [
    {
     "name": "stdout",
     "output_type": "stream",
     "text": [
      "(360, 7)\n",
      "(360, 7)\n",
      "+-------+------------------+----------------+------+----+-----+----+\n",
      "| Precio|         Ubicacion|          Barrio|Metros|Dorm|Baños|Años|\n",
      "+-------+------------------+----------------+------+----+-----+----+\n",
      "| 450000|      Villa Devoto| Capital Federal| 140.0|   3|    3|  15|\n",
      "| 520000|      Villa Devoto| Capital Federal| 135.0|   3|    3|  16|\n",
      "| 290000|      Villa Devoto| Capital Federal| 103.0|   3|    3|  32|\n",
      "| 595000|      Villa Devoto| Capital Federal| 238.0|   3|    2|   2|\n",
      "| 790000|      Villa Devoto| Capital Federal| 200.0|   4|    3|  15|\n",
      "| 525000|    Belgrano Chico|        Belgrano| 101.0|   2|    3|   7|\n",
      "| 390000|           Palermo| Capital Federal| 155.0|   3|    2|  17|\n",
      "| 490000|          Recoleta|    Barrio Norte| 161.0|   4|    4|  60|\n",
      "| 304000|       Las Cañitas|        Belgrano| 90.62|   3|    3|  50|\n",
      "|  99000|          Belgrano| Capital Federal|  33.0|   0|    1| 999|\n",
      "| 429000|           Palermo| Capital Federal|  85.0|   2|    2|  10|\n",
      "| 290000|    Belgrano Chico|        Belgrano| 103.0|   3|    3|  40|\n",
      "| 129000|  Villa Pueyrredon| Capital Federal|  38.0|   1|    1|   9|\n",
      "| 340000|          Belgrano| Capital Federal| 128.0|   3|    3| 999|\n",
      "| 205000|             Nuñez| Capital Federal|  85.0|   2|    1|   5|\n",
      "| 149000|             Nuñez| Capital Federal|  80.0|   2|    1|  45|\n",
      "| 110000|     Palermo Viejo|         Palermo|  36.0|   0|    1|   2|\n",
      "| 115000|      Palermo Soho|         Palermo|  34.0|   0|  999|   7|\n",
      "| 162000|      Villa Crespo| Capital Federal|  70.0|   2|    2|  18|\n",
      "|  89000|          Recoleta|    Barrio Norte| 999.0|   1|    1| 999|\n",
      "| 163000|         Caballito| Capital Federal|  55.0|   1|    2| 999|\n",
      "| 399000|          Belgrano| Capital Federal| 126.0|   3|    4|  22|\n",
      "| 300000|          Botanico|         Palermo| 114.0|   2|    2|  50|\n",
      "| 155000|     Villa Urquiza| Capital Federal|  54.0|   2|    2|   0|\n",
      "| 170800|         Urquiza R|   Villa Urquiza|  69.0|   2|    2|   9|\n",
      "| 189000|          Recoleta|    Barrio Norte|  74.0|   2|    1|  55|\n",
      "| 258000|          Belgrano| Capital Federal|  83.0|   2|    2|  41|\n",
      "| 218000|          Belgrano| Capital Federal|  94.0|   3|    1|   0|\n",
      "| 440000|         Caballito| Capital Federal| 148.0|   3|    2|  31|\n",
      "| 260000|         Caballito| Capital Federal|  71.0|   2|    2|  13|\n",
      "| 328000|       Las Cañitas|        Belgrano|  81.0|   2|    2| 999|\n",
      "| 560000|Belgrano Barrancas|        Belgrano| 171.0|   3|    2|  38|\n",
      "| 119000|  Villa del Parque| Capital Federal|  95.0|   3|    1|  37|\n",
      "|  98000|  Villa del Parque| Capital Federal|  50.0|   0|    1|   4|\n",
      "| 479000|             Nuñez| Capital Federal| 118.0|   3|    3| 999|\n",
      "| 340000|           Palermo| Capital Federal|  85.0|   2|    3|   8|\n",
      "| 189999|    Belgrano Chico|        Belgrano|  47.0|   1|    1|   0|\n",
      "| 329000|          Belgrano| Capital Federal| 130.0|   3|    2|  60|\n",
      "| 185000|          Recoleta|    Barrio Norte|  90.0|   2|    2|  24|\n",
      "| 210000|   Caballito Norte|       Caballito| 55.75|   1|    1|   0|\n",
      "| 340000|          Belgrano| Capital Federal| 999.0|   2|    2|   0|\n",
      "| 580000|           Palermo| Capital Federal| 130.0|   3|    3|  25|\n",
      "| 595000|          Belgrano| Capital Federal| 177.0|   3|    2|  50|\n",
      "| 330000|             River|           Nuñez|  81.0|   2|    2|  10|\n",
      "| 340000|      Villa Devoto| Capital Federal| 999.0|   2|    2|   5|\n",
      "| 399000|          Belgrano| Capital Federal| 109.0|   3|    3|  20|\n",
      "| 385000|       Las Cañitas|        Belgrano|  84.0|   2|    3|   0|\n",
      "| 143000|          Belgrano| Capital Federal|  60.0|   2|    1|  40|\n",
      "| 480000|             Nuñez| Capital Federal| 116.0|   3|    3|  22|\n",
      "| 197000|           Palermo| Capital Federal|  77.0|   2|    2|  41|\n",
      "| 269000|      Barrio Norte| Capital Federal| 117.0|   3|    2|  45|\n",
      "| 275000|     Caballito Sur|       Caballito|  92.0|   3|    2|  14|\n",
      "| 320000|     Villa Urquiza| Capital Federal|  91.0|   3|    2|   8|\n",
      "| 315000|     Villa Urquiza| Capital Federal|  84.0|   3|    2| 999|\n",
      "|  87000|         Urquiza R|   Villa Urquiza|  34.0|   0|    1|  10|\n",
      "|  88400| Palermo Hollywood|         Palermo|  31.0|   0|    1|   0|\n",
      "| 390000|          Belgrano| Capital Federal| 120.0|   2|    3|  60|\n",
      "| 225000|             Nuñez| Capital Federal|  64.0|   1|    2|  12|\n",
      "| 299000|      Barrio Norte| Capital Federal| 160.0|   4|    4|  36|\n",
      "| 220000|        Colegiales| Capital Federal|  65.0|   2|    2|   8|\n",
      "| 460000|        Colegiales| Capital Federal| 117.0|   3|    4|  30|\n",
      "| 280000|        Colegiales| Capital Federal|  91.0|   3|    2|  11|\n",
      "| 309000|           Palermo| Capital Federal|  75.0|   3|    3|  17|\n",
      "| 280000|           Palermo| Capital Federal|  71.0|   2|    2|  13|\n",
      "| 850000|        Belgrano R|        Belgrano| 157.0|   3|    4| 999|\n",
      "| 175000|            Flores| Capital Federal|  65.0|   2|    1|  40|\n",
      "| 264000|      Villa Devoto| Capital Federal|  89.0|   3|    2|   3|\n",
      "| 145000|            Flores| Capital Federal|  50.0|   1|    1|   2|\n",
      "|1350000|     Palermo Chico|         Palermo| 228.0|   5|    5|  40|\n",
      "| 399000|           Palermo| Capital Federal| 125.0|   3|    3|  51|\n",
      "| 103400| Palermo Hollywood|         Palermo|  43.0|   1|    1| 999|\n",
      "| 710000|    Belgrano Chico|        Belgrano| 120.0|   3|    3|  10|\n",
      "| 162000|        Belgrano R|        Belgrano|  67.0|   2|    1|  35|\n",
      "| 172000|            Retiro|          Centro|  75.0|   2|    2| 999|\n",
      "| 197000|             Nuñez| Capital Federal|  58.0|   2|    1|  22|\n",
      "| 550000|            Retiro|          Centro| 168.0|   2|    3|  60|\n",
      "|  95000|        Colegiales| Capital Federal|  51.0|   2|    1|  40|\n",
      "| 123000|           Almagro| Capital Federal|  43.0|   1|  999|   0|\n",
      "| 269000|          Belgrano| Capital Federal| 140.0|   3|    2|  50|\n",
      "| 118000|             Nuñez| Capital Federal|  40.0|   1|    1|   5|\n",
      "| 223000|             Nuñez| Capital Federal|  72.0|   2|    2|   0|\n",
      "|  86000|     Villa Urquiza| Capital Federal|  30.0|   0|    1|   0|\n",
      "| 340000|             Nuñez| Capital Federal| 107.0|   3|    3|  43|\n",
      "|1100000|      Villa Devoto| Capital Federal| 202.0|   6|    4|  24|\n",
      "| 395000|      Villa Devoto| Capital Federal| 105.0|   3|    3|   3|\n",
      "| 412000|         Caballito| Capital Federal|145.36|   3|    3| 999|\n",
      "| 118000|         Balvanera| Capital Federal|  52.0|   2|    1|  20|\n",
      "| 187000|           Palermo| Capital Federal|  72.0|   3|    1|  50|\n",
      "|  70900|         Caballito| Capital Federal| 999.0| 999|    1|   0|\n",
      "| 150000|     Villa Urquiza| Capital Federal|  70.0|   2|    1| 999|\n",
      "| 270000|         Caballito| Capital Federal|  86.0|   2|    2|  40|\n",
      "| 285000|      Villa Devoto| Capital Federal|  80.0|   2|    2|   8|\n",
      "| 219000|             Nuñez| Capital Federal|  76.0|   3|    2|  45|\n",
      "|1070000|          Belgrano| Capital Federal| 195.0|   3|    4| 999|\n",
      "| 450000|          Belgrano| Capital Federal| 124.0|   4|    4|  35|\n",
      "|  75400|         Balvanera| Capital Federal|  34.0|   0|    1|   0|\n",
      "| 148000| Barrio Santa Rita|Villa del Parque| 999.0|   2|    1|  39|\n",
      "| 233990|      Villa Crespo| Capital Federal|  73.0|   2|    2|   0|\n",
      "| 314000|         Urquiza R|   Villa Urquiza|  68.0|   2|    2|  20|\n",
      "| 234900|           Palermo| Capital Federal|  80.0|   3|    1|  35|\n",
      "+-------+------------------+----------------+------+----+-----+----+\n",
      "only showing top 100 rows\n",
      "\n"
     ]
    }
   ],
   "source": [
    "print((df.count(), len(df.columns)))\n",
    "print((df_pos.count(), len(df_pos.columns)))\n",
    "\n",
    "df_pos.show(100)"
   ]
  },
  {
   "cell_type": "code",
   "execution_count": 181,
   "metadata": {},
   "outputs": [],
   "source": [
    "spark.stop()"
   ]
  }
 ],
 "metadata": {
  "kernelspec": {
   "display_name": "Python 3",
   "language": "python",
   "name": "python3"
  },
  "language_info": {
   "codemirror_mode": {
    "name": "ipython",
    "version": 3
   },
   "file_extension": ".py",
   "mimetype": "text/x-python",
   "name": "python",
   "nbconvert_exporter": "python",
   "pygments_lexer": "ipython3",
   "version": "3.7.3"
  }
 },
 "nbformat": 4,
 "nbformat_minor": 4
}
