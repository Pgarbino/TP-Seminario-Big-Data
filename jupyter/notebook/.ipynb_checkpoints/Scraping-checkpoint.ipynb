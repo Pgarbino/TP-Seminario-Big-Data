{
 "cells": [
  {
   "cell_type": "markdown",
   "metadata": {},
   "source": [
    "# Scraping\n",
    "#### Se realiza la carga de datos desde el sitio argenprop.com "
   ]
  },
  {
   "cell_type": "markdown",
   "metadata": {},
   "source": [
    "### Importamos las librerías y creamos el dataset de Pandas"
   ]
  },
  {
   "cell_type": "code",
   "execution_count": 1,
   "metadata": {},
   "outputs": [],
   "source": [
    "from bs4 import BeautifulSoup\n",
    "import requests\n",
    "import pandas as pd\n",
    "from tqdm.auto import tqdm\n",
    "import os\n",
    "\n",
    "df=pd.DataFrame(columns=['Precio','Ubicacion','Barrio','Metros','Dorm','Baños','Años'])"
   ]
  },
  {
   "cell_type": "markdown",
   "metadata": {},
   "source": [
    "### Obtenemos el número total de páginas de publicaciones"
   ]
  },
  {
   "cell_type": "code",
   "execution_count": 2,
   "metadata": {},
   "outputs": [
    {
     "name": "stdout",
     "output_type": "stream",
     "text": [
      "Total de páginas: 861\n"
     ]
    }
   ],
   "source": [
    "params = {\n",
    "  \"api_key\":\"CDno35uJsvFXiXpMNf42BVxJCmE5GxmP\",\n",
    "  \"url\":\"https://www.argenprop.com/departamento-venta-region-capital-federal-1-o-más-cocheras-pagina-2\"\n",
    "}\n",
    "url = \"https://api.webscrapingapi.com/v1\"\n",
    "\n",
    "r = requests.request(\"GET\", url, params=params)\n",
    "\n",
    "soup = BeautifulSoup(r.text, 'lxml')\n",
    "paginas = soup.find_all('li', class_=\"pagination__page\")\n",
    "paginas = int(paginas[-2].text)\n",
    "print(\"Total de páginas:\",paginas)"
   ]
  },
  {
   "cell_type": "markdown",
   "metadata": {},
   "source": [
    "### Recolectamos la información de cada página, la parseamos y la incuimos en el dataset"
   ]
  },
  {
   "cell_type": "code",
   "execution_count": null,
   "metadata": {},
   "outputs": [],
   "source": [
    "\n",
    "for j in tqdm(range(2,10)): # PARA DESCARGAR TODAS LAS PUBLICACIONES cambiar range(2,10) por range(2,paginas)\n",
    "    \n",
    "    params = {\"api_key\":\"CDno35uJsvFXiXpMNf42BVxJCmE5GxmP\",\n",
    "              \"url\":\"https://www.argenprop.com/departamento-venta-region-capital-federal-1-o-más-cocheras-pagina-\"+str(j)}\n",
    "    \n",
    "    r = requests.request(\"GET\", url, params=params)\n",
    "    \n",
    "    soup = BeautifulSoup(r.text, 'lxml')\n",
    "\n",
    "    precio = soup.find_all('p',class_=\"card__price\")\n",
    "    caract = soup.find_all('ul',class_=\"card__main-features\")\n",
    "    direccion = soup.find_all('p',class_=\"card__title--primary\")\n",
    "\n",
    "    try:\n",
    "        ind = df.index[-1]+1\n",
    "    except: \n",
    "        ind = 0\n",
    "\n",
    "    for i in range(len(precio)):\n",
    "\n",
    "        precios = precio[i].text.replace(\"USD \",\"\").split()\n",
    "        caracts = caract[i].text.split()\n",
    "        direcciones = direccion[i].text.replace(\"Departamento en Venta en \",\"\").split(\", \")\n",
    "        \n",
    "        df.loc[ind+i,'Ubicacion'] = direcciones[0]\n",
    "        df.loc[ind+i,'Barrio'] = direcciones[1]\n",
    "        \n",
    "        if precios[0] == 'Consultar' or precios[0] == '$' :\n",
    "            df.loc[ind+i,'Precio'] = 999\n",
    "        else:\n",
    "            df.loc[ind+i,'Precio'] = int(precios[0].replace('.',''))\n",
    "\n",
    "        if 'm²' in caracts:\n",
    "            df.loc[ind+i,'Metros'] = float(caracts[caracts.index('m²')-1].replace(',','.'))\n",
    "\n",
    "        if 'baño' in caracts:\n",
    "            df.loc[ind+i,'Baños'] = int(caracts[caracts.index('baño')-1])\n",
    "\n",
    "        if 'baños' in caracts:\n",
    "            df.loc[ind+i,'Baños'] = int(caracts[caracts.index('baños')-1])\n",
    "\n",
    "        if 'Monoam.' in caracts:\n",
    "            df.loc[ind+i,'Dorm'] = 0\n",
    "    \n",
    "        if 'dorm.' in caracts:\n",
    "            df.loc[ind+i,'Dorm'] = int(caracts[caracts.index('dorm.')-1])\n",
    "\n",
    "        if 'años' in caracts:\n",
    "            df.loc[ind+i,'Años'] = int(caracts[caracts.index('años')-1])\n",
    "\n",
    "        if 'Estrenar' in caracts:\n",
    "            df.loc[ind+i,'Años'] = 0\n",
    "        "
   ]
  },
  {
   "cell_type": "code",
   "execution_count": 4,
   "metadata": {},
   "outputs": [],
   "source": [
    "import findspark\n",
    "\n",
    "findspark.add_jars('/app/postgresql-42.1.4.jar')\n",
    "findspark.init()"
   ]
  },
  {
   "cell_type": "code",
   "execution_count": 5,
   "metadata": {},
   "outputs": [
    {
     "name": "stderr",
     "output_type": "stream",
     "text": [
      "21/11/12 18:32:39 WARN NativeCodeLoader: Unable to load native-hadoop library for your platform... using builtin-java classes where applicable\n",
      "Setting default log level to \"WARN\".\n",
      "To adjust logging level use sc.setLogLevel(newLevel). For SparkR, use setLogLevel(newLevel).\n"
     ]
    }
   ],
   "source": [
    "from pyspark.sql import SparkSession\n",
    "spark = (\n",
    "    SparkSession.builder\n",
    "    .appName(\"pyspark-postgres\")\n",
    "    .config(\"spark.driver.memory\", \"512m\")\n",
    "    .config(\"spark.driver.cores\", \"1\")\n",
    "    .config(\"spark.executor.memory\", \"512m\")\n",
    "    .config(\"spark.executor.cores\", \"1\")\n",
    "    .config(\"spark.sql.shuffle.partitions\", \"2\")\n",
    "    .getOrCreate()\n",
    ")"
   ]
  },
  {
   "cell_type": "markdown",
   "metadata": {},
   "source": [
    "### Convertimos los valores faltantes en '999' y luego transformamos el Dataframe de Pandas en Spark"
   ]
  },
  {
   "cell_type": "code",
   "execution_count": null,
   "metadata": {},
   "outputs": [],
   "source": [
    "df=df.fillna(999)\n",
    "df = spark.createDataFrame(df)"
   ]
  },
  {
   "cell_type": "markdown",
   "metadata": {},
   "source": [
    "### Guardamos en Postgres"
   ]
  },
  {
   "cell_type": "code",
   "execution_count": null,
   "metadata": {},
   "outputs": [],
   "source": [
    "df \\\n",
    "    .write \\\n",
    "    .format(\"jdbc\") \\\n",
    "    .option(\"url\", \"jdbc:postgresql://postgres/workshop\") \\\n",
    "    .option(\"dbtable\", \"workshop.viviendas\") \\\n",
    "    .option(\"user\", \"workshop\") \\\n",
    "    .option(\"password\", \"w0rkzh0p\") \\\n",
    "    .option(\"driver\", \"org.postgresql.Driver\") \\\n",
    "    .mode('overwrite') \\\n",
    "    .save()"
   ]
  },
  {
   "cell_type": "code",
   "execution_count": 6,
   "metadata": {},
   "outputs": [],
   "source": [
    "df_pos = spark.read \\\n",
    "    .format(\"jdbc\") \\\n",
    "    .option(\"url\", \"jdbc:postgresql://postgres/workshop\") \\\n",
    "    .option(\"dbtable\", \"workshop.viviendas\") \\\n",
    "    .option(\"user\", \"workshop\") \\\n",
    "    .option(\"password\", \"w0rkzh0p\") \\\n",
    "    .option(\"driver\", \"org.postgresql.Driver\") \\\n",
    "    .load()"
   ]
  },
  {
   "cell_type": "markdown",
   "metadata": {},
   "source": [
    "### Corroboramos que coincidan la cantidad de filas y columnas y mostramos las primeras 100 filas del Dataframe importado de postgres"
   ]
  },
  {
   "cell_type": "code",
   "execution_count": null,
   "metadata": {},
   "outputs": [],
   "source": [
    "print((df.count(), len(df.columns)))\n",
    "print((df_pos.count(), len(df_pos.columns)))\n",
    "\n",
    "df_pos.show(100)"
   ]
  },
  {
   "cell_type": "code",
   "execution_count": null,
   "metadata": {},
   "outputs": [],
   "source": [
    "spark.stop()"
   ]
  }
 ],
 "metadata": {
  "kernelspec": {
   "display_name": "Python 3 (ipykernel)",
   "language": "python",
   "name": "python3"
  },
  "language_info": {
   "codemirror_mode": {
    "name": "ipython",
    "version": 3
   },
   "file_extension": ".py",
   "mimetype": "text/x-python",
   "name": "python",
   "nbconvert_exporter": "python",
   "pygments_lexer": "ipython3",
   "version": "3.7.3"
  }
 },
 "nbformat": 4,
 "nbformat_minor": 4
}
