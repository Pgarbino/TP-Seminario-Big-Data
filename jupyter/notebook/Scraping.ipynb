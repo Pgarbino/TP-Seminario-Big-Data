{
 "cells": [
  {
   "cell_type": "markdown",
   "metadata": {},
   "source": [
    "# Scraping\n",
    "#### Se realiza la carga de datos desde el sitio argenprop.com "
   ]
  },
  {
   "cell_type": "markdown",
   "metadata": {},
   "source": [
    "### Intalación de las librerías necesarias"
   ]
  },
  {
   "cell_type": "code",
   "execution_count": 1,
   "metadata": {},
   "outputs": [
    {
     "name": "stdout",
     "output_type": "stream",
     "text": [
      "Collecting tqdm\n",
      "\u001b[?25l  Downloading https://files.pythonhosted.org/packages/63/f3/b7a1b8e40fd1bd049a34566eb353527bb9b8e9b98f8b6cf803bb64d8ce95/tqdm-4.62.3-py2.py3-none-any.whl (76kB)\n",
      "\u001b[K    100% |████████████████████████████████| 81kB 1.2MB/s ta 0:00:01\n",
      "\u001b[?25hInstalling collected packages: tqdm\n",
      "Successfully installed tqdm-4.62.3\n",
      "Note: you may need to restart the kernel to use updated packages.\n"
     ]
    }
   ],
   "source": [
    "pip install tqdm"
   ]
  },
  {
   "cell_type": "code",
   "execution_count": 2,
   "metadata": {},
   "outputs": [
    {
     "name": "stdout",
     "output_type": "stream",
     "text": [
      "Collecting bs4\n",
      "  Downloading https://files.pythonhosted.org/packages/10/ed/7e8b97591f6f456174139ec089c769f89a94a1a4025fe967691de971f314/bs4-0.0.1.tar.gz\n",
      "Collecting beautifulsoup4 (from bs4)\n",
      "\u001b[?25l  Downloading https://files.pythonhosted.org/packages/69/bf/f0f194d3379d3f3347478bd267f754fc68c11cbf2fe302a6ab69447b1417/beautifulsoup4-4.10.0-py3-none-any.whl (97kB)\n",
      "\u001b[K    100% |████████████████████████████████| 102kB 1.2MB/s a 0:00:01\n",
      "\u001b[?25hCollecting soupsieve>1.2 (from beautifulsoup4->bs4)\n",
      "  Downloading https://files.pythonhosted.org/packages/36/69/d82d04022f02733bf9a72bc3b96332d360c0c5307096d76f6bb7489f7e57/soupsieve-2.2.1-py3-none-any.whl\n",
      "Building wheels for collected packages: bs4\n",
      "  Running setup.py bdist_wheel for bs4 ... \u001b[?25ldone\n",
      "\u001b[?25h  Stored in directory: /root/.cache/pip/wheels/a0/b0/b2/4f80b9456b87abedbc0bf2d52235414c3467d8889be38dd472\n",
      "Successfully built bs4\n",
      "Installing collected packages: soupsieve, beautifulsoup4, bs4\n",
      "Successfully installed beautifulsoup4-4.10.0 bs4-0.0.1 soupsieve-2.2.1\n",
      "Note: you may need to restart the kernel to use updated packages.\n"
     ]
    }
   ],
   "source": [
    "pip install bs4"
   ]
  },
  {
   "cell_type": "code",
   "execution_count": 3,
   "metadata": {},
   "outputs": [
    {
     "name": "stdout",
     "output_type": "stream",
     "text": [
      "Collecting lxml\n",
      "\u001b[?25l  Downloading https://files.pythonhosted.org/packages/cf/4d/6537313bf58fe22b508f08cf3eb86b29b6f9edf68e00454224539421073b/lxml-4.6.3-cp37-cp37m-manylinux1_x86_64.whl (5.5MB)\n",
      "\u001b[K    100% |████████████████████████████████| 5.5MB 272kB/s eta 0:00:01\n",
      "\u001b[?25hInstalling collected packages: lxml\n",
      "Successfully installed lxml-4.6.3\n",
      "Note: you may need to restart the kernel to use updated packages.\n"
     ]
    }
   ],
   "source": [
    "pip install lxml"
   ]
  },
  {
   "cell_type": "markdown",
   "metadata": {},
   "source": [
    "### Importamos las librerías y creamos el dataset de Pandas"
   ]
  },
  {
   "cell_type": "code",
   "execution_count": 4,
   "metadata": {},
   "outputs": [],
   "source": [
    "from bs4 import BeautifulSoup\n",
    "import requests\n",
    "import pandas as pd\n",
    "from tqdm.auto import tqdm\n",
    "import os\n",
    "\n",
    "df=pd.DataFrame(columns=['Precio','Ubicacion','Barrio','Metros','Dorm','Baños','Años'])"
   ]
  },
  {
   "cell_type": "markdown",
   "metadata": {},
   "source": [
    "### Obtenemos el número total de páginas de publicaciones"
   ]
  },
  {
   "cell_type": "code",
   "execution_count": 5,
   "metadata": {},
   "outputs": [
    {
     "name": "stdout",
     "output_type": "stream",
     "text": [
      "Total de páginas: 854\n"
     ]
    }
   ],
   "source": [
    "url = \"https://www.argenprop.com/departamento-venta-region-capital-federal-1-o-más-cocheras-pagina-2\"\n",
    "headers = {'User-Agent':'Mozilla/5.0 (Macintosh; Intel Mac OS X 10_11_2) AppleWebKit/601.3.9     (KHTML, like Gecko) Version/9.0.2 Safari/601.3.9'}\n",
    "r = requests.get(url,headers=headers)\n",
    "soup = BeautifulSoup(r.text, 'lxml')\n",
    "paginas = soup.find_all('li', class_=\"pagination__page\")\n",
    "paginas = int(paginas[-2].text)\n",
    "print(\"Total de páginas:\",paginas)"
   ]
  },
  {
   "cell_type": "markdown",
   "metadata": {},
   "source": [
    "### Recolectamos la información de cada página, la parseamos y la incuimos en el dataset"
   ]
  },
  {
   "cell_type": "code",
   "execution_count": 6,
   "metadata": {},
   "outputs": [
    {
     "data": {
      "application/vnd.jupyter.widget-view+json": {
       "model_id": "f5f49a28dd464dacaf38c40a237b1d0f",
       "version_major": 2,
       "version_minor": 0
      },
      "text/plain": [
       "  0%|          | 0/852 [00:00<?, ?it/s]"
      ]
     },
     "metadata": {},
     "output_type": "display_data"
    },
    {
     "ename": "ValueError",
     "evalue": "invalid literal for int() with base 10: '$'",
     "output_type": "error",
     "traceback": [
      "\u001b[0;31m---------------------------------------------------------------------------\u001b[0m",
      "\u001b[0;31mValueError\u001b[0m                                Traceback (most recent call last)",
      "\u001b[0;32m<ipython-input-6-3fc604fb0c4b>\u001b[0m in \u001b[0;36m<module>\u001b[0;34m\u001b[0m\n\u001b[1;32m     26\u001b[0m             \u001b[0mdf\u001b[0m\u001b[0;34m.\u001b[0m\u001b[0mloc\u001b[0m\u001b[0;34m[\u001b[0m\u001b[0mind\u001b[0m\u001b[0;34m+\u001b[0m\u001b[0mi\u001b[0m\u001b[0;34m,\u001b[0m\u001b[0;34m'Precio'\u001b[0m\u001b[0;34m]\u001b[0m \u001b[0;34m=\u001b[0m \u001b[0;36m999\u001b[0m\u001b[0;34m\u001b[0m\u001b[0;34m\u001b[0m\u001b[0m\n\u001b[1;32m     27\u001b[0m         \u001b[0;32melse\u001b[0m\u001b[0;34m:\u001b[0m\u001b[0;34m\u001b[0m\u001b[0;34m\u001b[0m\u001b[0m\n\u001b[0;32m---> 28\u001b[0;31m             \u001b[0mdf\u001b[0m\u001b[0;34m.\u001b[0m\u001b[0mloc\u001b[0m\u001b[0;34m[\u001b[0m\u001b[0mind\u001b[0m\u001b[0;34m+\u001b[0m\u001b[0mi\u001b[0m\u001b[0;34m,\u001b[0m\u001b[0;34m'Precio'\u001b[0m\u001b[0;34m]\u001b[0m \u001b[0;34m=\u001b[0m \u001b[0mint\u001b[0m\u001b[0;34m(\u001b[0m\u001b[0mprecios\u001b[0m\u001b[0;34m[\u001b[0m\u001b[0;36m0\u001b[0m\u001b[0;34m]\u001b[0m\u001b[0;34m.\u001b[0m\u001b[0mreplace\u001b[0m\u001b[0;34m(\u001b[0m\u001b[0;34m'.'\u001b[0m\u001b[0;34m,\u001b[0m\u001b[0;34m''\u001b[0m\u001b[0;34m)\u001b[0m\u001b[0;34m)\u001b[0m\u001b[0;34m\u001b[0m\u001b[0;34m\u001b[0m\u001b[0m\n\u001b[0m\u001b[1;32m     29\u001b[0m \u001b[0;34m\u001b[0m\u001b[0m\n\u001b[1;32m     30\u001b[0m         \u001b[0;32mif\u001b[0m \u001b[0;34m'm²'\u001b[0m \u001b[0;32min\u001b[0m \u001b[0mcaracts\u001b[0m\u001b[0;34m:\u001b[0m\u001b[0;34m\u001b[0m\u001b[0;34m\u001b[0m\u001b[0m\n",
      "\u001b[0;31mValueError\u001b[0m: invalid literal for int() with base 10: '$'"
     ]
    }
   ],
   "source": [
    "\n",
    "for j in tqdm(range(2,paginas)): # PARA MENOR TIEMPO reemplazar paginas por otro valor así no se trae la totalidad de páginas \n",
    "    url = \"https://www.argenprop.com/departamento-venta-region-capital-federal-1-o-más-cocheras-pagina-\"+str(j)\n",
    "    headers = {'User-Agent':'Mozilla/5.0 (Macintosh; Intel Mac OS X 10_11_2) AppleWebKit/601.3.9     (KHTML, like Gecko) Version/9.0.2 Safari/601.3.9'}\n",
    "    r = requests.get(url,headers=headers)\n",
    "    soup = BeautifulSoup(r.text, 'lxml')\n",
    "\n",
    "    precio = soup.find_all('p',class_=\"card__price\")\n",
    "    caract = soup.find_all('ul',class_=\"card__main-features\")\n",
    "    direccion = soup.find_all('p',class_=\"card__title--primary\")\n",
    "\n",
    "    try:\n",
    "     ind = df.index[-1]+1\n",
    "    except: \n",
    "        ind = 0\n",
    "\n",
    "    for i in range(len(precio)):\n",
    "\n",
    "        precios = precio[i].text.replace(\"USD \",\"\").split()\n",
    "        caracts = caract[i].text.split()\n",
    "        direcciones = direccion[i].text.replace(\"Departamento en Venta en \",\"\").split(\", \")\n",
    "        \n",
    "        df.loc[ind+i,'Ubicacion'] = direcciones[0]\n",
    "        df.loc[ind+i,'Barrio'] = direcciones[1]\n",
    "        \n",
    "        if precios[0] == 'Consultar' :\n",
    "            df.loc[ind+i,'Precio'] = 999\n",
    "        else:\n",
    "            df.loc[ind+i,'Precio'] = int(precios[0].replace('.',''))\n",
    "\n",
    "        if 'm²' in caracts:\n",
    "            df.loc[ind+i,'Metros'] = float(caracts[caracts.index('m²')-1].replace(',','.'))\n",
    "\n",
    "        if 'baño' in caracts:\n",
    "            df.loc[ind+i,'Baños'] = int(caracts[caracts.index('baño')-1])\n",
    "\n",
    "        if 'baños' in caracts:\n",
    "            df.loc[ind+i,'Baños'] = int(caracts[caracts.index('baños')-1])\n",
    "\n",
    "        if 'Monoam.' in caracts:\n",
    "            df.loc[ind+i,'Dorm'] = 0\n",
    "    \n",
    "        if 'dorm.' in caracts:\n",
    "            df.loc[ind+i,'Dorm'] = int(caracts[caracts.index('dorm.')-1])\n",
    "\n",
    "        if 'años' in caracts:\n",
    "            df.loc[ind+i,'Años'] = int(caracts[caracts.index('años')-1])\n",
    "\n",
    "        if 'Estrenar' in caracts:\n",
    "            df.loc[ind+i,'Años'] = 0\n",
    "        "
   ]
  },
  {
   "cell_type": "code",
   "execution_count": 8,
   "metadata": {},
   "outputs": [],
   "source": [
    "import findspark\n",
    "\n",
    "findspark.add_jars('/app/postgresql-42.1.4.jar')\n",
    "findspark.init()"
   ]
  },
  {
   "cell_type": "code",
   "execution_count": 10,
   "metadata": {},
   "outputs": [],
   "source": [
    "from pyspark.sql import SparkSession\n",
    "spark = (\n",
    "    SparkSession.builder\n",
    "    .appName(\"pyspark-postgres\")\n",
    "    .config(\"spark.driver.memory\", \"512m\")\n",
    "    .config(\"spark.driver.cores\", \"1\")\n",
    "    .config(\"spark.executor.memory\", \"512m\")\n",
    "    .config(\"spark.executor.cores\", \"1\")\n",
    "    .config(\"spark.sql.shuffle.partitions\", \"2\")\n",
    "    .getOrCreate()\n",
    ")"
   ]
  },
  {
   "cell_type": "markdown",
   "metadata": {},
   "source": [
    "### Convertimos los valores faltantes en '999' y luego transformamos el Dataframe de Pandas en Spark"
   ]
  },
  {
   "cell_type": "code",
   "execution_count": 11,
   "metadata": {},
   "outputs": [],
   "source": [
    "df=df.fillna(999)\n",
    "df = spark.createDataFrame(df)"
   ]
  },
  {
   "cell_type": "markdown",
   "metadata": {},
   "source": [
    "### Guardamos en Postgres"
   ]
  },
  {
   "cell_type": "code",
   "execution_count": 12,
   "metadata": {},
   "outputs": [],
   "source": [
    "df \\\n",
    "    .write \\\n",
    "    .format(\"jdbc\") \\\n",
    "    .option(\"url\", \"jdbc:postgresql://postgres/workshop\") \\\n",
    "    .option(\"dbtable\", \"workshop.viviendas\") \\\n",
    "    .option(\"user\", \"workshop\") \\\n",
    "    .option(\"password\", \"w0rkzh0p\") \\\n",
    "    .option(\"driver\", \"org.postgresql.Driver\") \\\n",
    "    .mode('overwrite') \\\n",
    "    .save()"
   ]
  },
  {
   "cell_type": "code",
   "execution_count": 13,
   "metadata": {},
   "outputs": [],
   "source": [
    "df_pos = spark.read \\\n",
    "    .format(\"jdbc\") \\\n",
    "    .option(\"url\", \"jdbc:postgresql://postgres/workshop\") \\\n",
    "    .option(\"dbtable\", \"workshop.viviendas\") \\\n",
    "    .option(\"user\", \"workshop\") \\\n",
    "    .option(\"password\", \"w0rkzh0p\") \\\n",
    "    .option(\"driver\", \"org.postgresql.Driver\") \\\n",
    "    .load()"
   ]
  },
  {
   "cell_type": "markdown",
   "metadata": {},
   "source": [
    "### Corroboramos que coincidan la cantidad de filas y columnas y mostramos las primeras 100 filas del Dataframe importado de postgres"
   ]
  },
  {
   "cell_type": "code",
   "execution_count": 14,
   "metadata": {},
   "outputs": [
    {
     "name": "stdout",
     "output_type": "stream",
     "text": [
      "(871, 7)\n",
      "(871, 7)\n",
      "+-------+------------------+---------------+------+----+-----+-----+\n",
      "| Precio|         Ubicacion|         Barrio|Metros|Dorm|Baños| Años|\n",
      "+-------+------------------+---------------+------+----+-----+-----+\n",
      "| 399900|      Villa Devoto|Capital Federal| 115.0|   3|    1|   41|\n",
      "| 211000|      Villa Crespo|Capital Federal|  98.0|   4|    2|   47|\n",
      "| 137000|  Villa Santa Rita|Capital Federal|  50.0|   1|    1|   10|\n",
      "|  37600|            Centro|Capital Federal|  19.0| 999|    1|  999|\n",
      "| 390000|             Nuñez|Capital Federal| 145.0|   3|    3|   35|\n",
      "| 100000|     Palermo Viejo|        Palermo|  35.0|   0|    1|   20|\n",
      "| 980000|      Barrio Norte|Capital Federal| 135.0|   2|    3|  999|\n",
      "| 315000|     Villa Urquiza|Capital Federal|  74.0|   2|    2|    7|\n",
      "| 550000|           Palermo|Capital Federal| 110.0|   2|    3|    0|\n",
      "| 140000|  Parque Chacabuco|Capital Federal|  82.0|   2|    2|   35|\n",
      "| 120000|  Villa del Parque|Capital Federal|  45.0|   1|    1|   14|\n",
      "| 115000|           Almagro|Capital Federal|  37.0|   1|    1|   25|\n",
      "| 260000|     Villa Urquiza|Capital Federal|  65.0|   2|    2|    0|\n",
      "| 275000|     Villa Urquiza|Capital Federal|  65.0|   2|    2|    0|\n",
      "| 118000|      Villa Crespo|Capital Federal|  44.0|   1|    1|    4|\n",
      "| 232000|            Retiro|         Centro| 999.0|   2|    1|  999|\n",
      "| 209000|     Villa Urquiza|Capital Federal|  72.0|   2|    2|   10|\n",
      "| 140000|          Belgrano|Capital Federal|  55.0|   1|    1|   30|\n",
      "| 245000|          Recoleta|   Barrio Norte|  81.0|   2|    2|   45|\n",
      "| 149000|  Parque Chacabuco|Capital Federal|  61.0|   1|    2|    5|\n",
      "| 189900|         Mataderos|Capital Federal|  82.0|   3|    1|   41|\n",
      "| 190000|            Flores|Capital Federal|  71.5|   2|    1|   30|\n",
      "| 225000|          Congreso|Capital Federal| 100.0|   3|    2|   45|\n",
      "| 590000|          Belgrano|Capital Federal| 170.0|   3|    3|   30|\n",
      "|1500000|     Palermo Chico|        Palermo| 999.0|   3|    4|   15|\n",
      "|  65000|         Chacarita|Capital Federal|  36.0|   1|    1|   45|\n",
      "| 300000|            Flores|Capital Federal| 130.0|   3|    3|    0|\n",
      "| 390000|           Palermo|Capital Federal| 130.0|   3|    2|   33|\n",
      "| 540000|        Colegiales|Capital Federal| 170.0|   3|    2|   20|\n",
      "| 215000|          Belgrano|Capital Federal|  72.0|   2|    2|   17|\n",
      "| 307000|           Palermo|Capital Federal|  78.0|   3|    2|   40|\n",
      "| 290000|    Lomas de Nuñez|          Nuñez|  90.0|   2|    2|    0|\n",
      "| 390000|        Belgrano R|       Belgrano| 147.0|   3|    2|   35|\n",
      "| 307500|           Liniers|Capital Federal| 106.0|   3|    2|  999|\n",
      "| 389000|          Belgrano|Capital Federal|  90.0|   2|    3|   40|\n",
      "| 280000|     Palermo Chico|        Palermo|  81.0|   3|    2|   40|\n",
      "| 199000|             Nuñez|Capital Federal|  60.0|   1|    2|  999|\n",
      "| 175000|      Villa Crespo|Capital Federal|  67.0|   2|    2|    0|\n",
      "|  45000|       San Nicolás|         Centro|  30.0|   1|  999|   50|\n",
      "| 140000|             Nuñez|Capital Federal|  34.0|   1|  999|    8|\n",
      "| 190000|             Nuñez|Capital Federal|  44.0|   1|    1|    2|\n",
      "| 490000|          Belgrano|Capital Federal| 163.0|   3|    3|   39|\n",
      "| 298000|           Liniers|Capital Federal| 110.0|   3|    3|  999|\n",
      "| 850000|          Belgrano|Capital Federal| 215.0|   4|    3|   41|\n",
      "| 149000|             Boedo|Capital Federal|  74.0|   2|    2|    0|\n",
      "|1390000|           Palermo|Capital Federal| 252.0|   3|    3|30000|\n",
      "|  79200|             Boedo|Capital Federal|  40.0|   1|    1|   40|\n",
      "| 220000|      Villa Crespo|Capital Federal|  60.0|   2|    2|    5|\n",
      "| 350000|          Belgrano|Capital Federal| 100.0|   3|    3|   40|\n",
      "| 169000|        Colegiales|Capital Federal| 54.27|   1|    1|   10|\n",
      "| 250000|        Belgrano R|       Belgrano| 100.0|   3|    2|   50|\n",
      "| 345000|          Belgrano|Capital Federal|  90.0|   2|    2|  999|\n",
      "| 460000|       Las Cañitas|       Belgrano| 151.0|   3|    2|   60|\n",
      "| 129000|              Once|Capital Federal|  47.0|   1|    1|  999|\n",
      "| 145000|     Villa Urquiza|Capital Federal|  43.0|   1|    1|   10|\n",
      "| 164000|          Belgrano|Capital Federal|  67.0|   2|    1|   38|\n",
      "| 188000|      Barrio Norte|Capital Federal|  93.0|   3|    2|   25|\n",
      "| 129000|         Mataderos|Capital Federal|  80.0|   2|    2|    0|\n",
      "| 338000|           Almagro|Capital Federal| 205.0|   4|    2|    5|\n",
      "| 168000|      Villa Devoto|Capital Federal|  52.0|   2|    2|   10|\n",
      "| 228000|         Caballito|Capital Federal|  88.0|   3|    2|   15|\n",
      "| 275000|           Almagro|Capital Federal|  70.0|   3|    2|  999|\n",
      "| 298000|  Villa del Parque|Capital Federal|  86.0|   3|    2|    8|\n",
      "| 219000|     Villa Urquiza|Capital Federal|  87.0|   2|    2|    8|\n",
      "| 620000|             Nuñez|Capital Federal| 140.0|   2|    4|   15|\n",
      "| 780000|          Belgrano|Capital Federal| 209.0|   4|    2|   50|\n",
      "| 125000|           Almagro|Capital Federal|  55.0|   2|    1|  999|\n",
      "| 154000|          Belgrano|Capital Federal|  64.0|   2|    1|   30|\n",
      "| 220000|          Belgrano|Capital Federal|  60.0|   2|    2|    8|\n",
      "|  69900|            Centro|Capital Federal| 33.23|   0|    1|  999|\n",
      "| 190000|         Urquiza R|  Villa Urquiza| 75.32|   2|    1|   40|\n",
      "|  95000|         Balvanera|Capital Federal|  38.0|   1|    1|   10|\n",
      "| 279000|          Belgrano|Capital Federal| 109.0|   3|    2|   45|\n",
      "|  98500|  Villa Santa Rita|Capital Federal|  44.0|   1|    2|    0|\n",
      "|    999|          Saavedra|Capital Federal|  60.0|   2|    1|    0|\n",
      "| 430000|         Caballito|Capital Federal| 123.0|   3|    3|    0|\n",
      "| 408000|          Belgrano|Capital Federal| 135.0|   3|    3|   50|\n",
      "| 155000|  Villa Pueyrredon|Capital Federal|  58.0|   2|    1|    5|\n",
      "| 123000|           Liniers|Capital Federal|  50.0|   1|    1|    0|\n",
      "| 550000|     Puerto Madero|         Centro| 112.0|   1|    1|   10|\n",
      "| 215000|  Parque Chacabuco|Capital Federal|  68.0|   2|    2|  999|\n",
      "| 360000|        Villa Luro|Capital Federal| 999.0|   3|    2|  999|\n",
      "|  89000|            Flores|Capital Federal|  41.0|   1|    1|   15|\n",
      "| 117000|           Almagro|Capital Federal|  53.0|   2|    1|   40|\n",
      "| 199900|        Colegiales|Capital Federal|  86.0|   3|    2|   30|\n",
      "| 350000|    Lomas de Nuñez|          Nuñez| 113.0|   3|    2|   40|\n",
      "| 154000|          Saavedra|Capital Federal|  36.0|   1|    1|    0|\n",
      "| 470000|Belgrano Barrancas|       Belgrano| 194.0|   3|    2|   50|\n",
      "| 250000|          Belgrano|Capital Federal| 100.0|   2|    3|   25|\n",
      "| 140000|           Liniers|Capital Federal| 999.0|   2|    2|   10|\n",
      "| 108000|           Liniers|Capital Federal|  35.0|   1|    1|    7|\n",
      "| 135000|        Villa Luro|Capital Federal|  42.0|   0|    1|  999|\n",
      "| 200000|          Belgrano|Capital Federal|  59.0|   2|    1|   10|\n",
      "| 238000|  Villa del Parque|Capital Federal|  95.0|   3|    2|   35|\n",
      "|  58800|            Centro|Capital Federal| 999.0| 999|    1|  999|\n",
      "| 146000|     Villa Urquiza|Capital Federal|  39.0|   1|    1|   12|\n",
      "|2000000|     Palermo Chico|        Palermo| 470.0|   3|    4|   38|\n",
      "| 750000|     Puerto Madero|         Centro| 143.0|   3|    3|  999|\n",
      "| 174000|           Palermo|Capital Federal|  49.0|   1|    1|    3|\n",
      "| 145000|       Las Cañitas|       Belgrano| 999.0|   2|    1|   40|\n",
      "+-------+------------------+---------------+------+----+-----+-----+\n",
      "only showing top 100 rows\n",
      "\n"
     ]
    }
   ],
   "source": [
    "print((df.count(), len(df.columns)))\n",
    "print((df_pos.count(), len(df_pos.columns)))\n",
    "\n",
    "df_pos.show(100)"
   ]
  },
  {
   "cell_type": "code",
   "execution_count": 181,
   "metadata": {},
   "outputs": [],
   "source": [
    "spark.stop()"
   ]
  }
 ],
 "metadata": {
  "kernelspec": {
   "display_name": "Python 3",
   "language": "python",
   "name": "python3"
  },
  "language_info": {
   "codemirror_mode": {
    "name": "ipython",
    "version": 3
   },
   "file_extension": ".py",
   "mimetype": "text/x-python",
   "name": "python",
   "nbconvert_exporter": "python",
   "pygments_lexer": "ipython3",
   "version": "3.7.3"
  }
 },
 "nbformat": 4,
 "nbformat_minor": 4
}
